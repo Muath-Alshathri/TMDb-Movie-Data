{
 "cells": [
  {
   "cell_type": "markdown",
   "id": "db0cf181",
   "metadata": {},
   "source": [
    "\n",
    "# Project: Investigate a Dataset - TMDb movie data\n",
    "## Table of Contents\n",
    "<ul>\n",
    "<li><a href=\"#intro\">Introduction</a></li>\n",
    "<li><a href=\"#wrangling\">Data Wrangling</a></li>\n",
    "<li><a href=\"#eda\">Exploratory Data Analysis</a></li>\n",
    "<li><a href=\"#conclusions\">Conclusions</a></li>\n",
    "</ul>"
   ]
  },
  {
   "cell_type": "markdown",
   "id": "0f7fbc0e",
   "metadata": {},
   "source": [
    "<a id='intro'></a>\n",
    "## Introduction \n",
    "In this Project i will conduct full analysis on TMDb which is dataset that contain multiple features like the Budget, Revenue, Cast and Director of a movie <br>\n",
    "The value of this project is to to understand movie's features and how they could relate to each other \n",
    "### Dataset Description"
   ]
  },
  {
   "cell_type": "code",
   "execution_count": 1,
   "id": "dfd448f7",
   "metadata": {},
   "outputs": [],
   "source": [
    "import pandas as pd \n",
    "import numpy as np\n",
    "import matplotlib.pyplot as plt"
   ]
  },
  {
   "cell_type": "code",
   "execution_count": 2,
   "id": "141a8752",
   "metadata": {},
   "outputs": [],
   "source": [
    "df=pd.read_csv('tmdb-movies.csv')"
   ]
  },
  {
   "cell_type": "code",
   "execution_count": 3,
   "id": "cab65e46",
   "metadata": {},
   "outputs": [
    {
     "data": {
      "text/plain": [
       "(10866, 21)"
      ]
     },
     "execution_count": 3,
     "metadata": {},
     "output_type": "execute_result"
    }
   ],
   "source": [
    "df.shape"
   ]
  },
  {
   "cell_type": "code",
   "execution_count": 4,
   "id": "afd2c096",
   "metadata": {},
   "outputs": [
    {
     "data": {
      "text/plain": [
       "Index(['id', 'imdb_id', 'popularity', 'budget', 'revenue', 'original_title',\n",
       "       'cast', 'homepage', 'director', 'tagline', 'keywords', 'overview',\n",
       "       'runtime', 'genres', 'production_companies', 'release_date',\n",
       "       'vote_count', 'vote_average', 'release_year', 'budget_adj',\n",
       "       'revenue_adj'],\n",
       "      dtype='object')"
      ]
     },
     "execution_count": 4,
     "metadata": {},
     "output_type": "execute_result"
    }
   ],
   "source": [
    "df.columns"
   ]
  },
  {
   "cell_type": "markdown",
   "id": "17359546",
   "metadata": {},
   "source": [
    "### This data set contains information about 10,866 movies collected from The Movie Database (TMDb), including user ratings and revenue.\n",
    "<ul>\n",
    "<li>\n",
    "Certain columns, like ‘cast’ and ‘genres’, contain multiple values separated by pipe (|) characters.\n",
    "<li>\n",
    "There are some odd characters in the ‘cast’ column. Don’t worry about cleaning them. You can leave them as is.\n",
    "<li>\n",
    "The final two columns ending with “_adj” show the budget and revenue of the associated movie in terms of 2010 dollars,accounting for inflation over time.<ul>"
   ]
  },
  {
   "cell_type": "markdown",
   "id": "58a1f0ab",
   "metadata": {},
   "source": [
    "### Questions for Analysis\n",
    "<ol>\n",
    "    <li>Which genres are most popular from year to year?\n",
    "    <li>What are the difference between long Movie and Short Movie?\n",
    "    <li>What kinds of properties are associated with movies that have high revenues?\n",
    "    <li>how many movies per genres?\n",
    "       <ol>"
   ]
  },
  {
   "cell_type": "markdown",
   "id": "c377a5ff",
   "metadata": {},
   "source": [
    "<a id='wrangling'></a>\n",
    "## Data Wrangling\n",
    "### General Properties"
   ]
  },
  {
   "cell_type": "code",
   "execution_count": 5,
   "id": "85380772",
   "metadata": {},
   "outputs": [
    {
     "data": {
      "text/html": [
       "<div>\n",
       "<style scoped>\n",
       "    .dataframe tbody tr th:only-of-type {\n",
       "        vertical-align: middle;\n",
       "    }\n",
       "\n",
       "    .dataframe tbody tr th {\n",
       "        vertical-align: top;\n",
       "    }\n",
       "\n",
       "    .dataframe thead th {\n",
       "        text-align: right;\n",
       "    }\n",
       "</style>\n",
       "<table border=\"1\" class=\"dataframe\">\n",
       "  <thead>\n",
       "    <tr style=\"text-align: right;\">\n",
       "      <th></th>\n",
       "      <th>id</th>\n",
       "      <th>imdb_id</th>\n",
       "      <th>popularity</th>\n",
       "      <th>budget</th>\n",
       "      <th>revenue</th>\n",
       "      <th>original_title</th>\n",
       "      <th>cast</th>\n",
       "      <th>homepage</th>\n",
       "      <th>director</th>\n",
       "      <th>tagline</th>\n",
       "      <th>...</th>\n",
       "      <th>overview</th>\n",
       "      <th>runtime</th>\n",
       "      <th>genres</th>\n",
       "      <th>production_companies</th>\n",
       "      <th>release_date</th>\n",
       "      <th>vote_count</th>\n",
       "      <th>vote_average</th>\n",
       "      <th>release_year</th>\n",
       "      <th>budget_adj</th>\n",
       "      <th>revenue_adj</th>\n",
       "    </tr>\n",
       "  </thead>\n",
       "  <tbody>\n",
       "    <tr>\n",
       "      <th>0</th>\n",
       "      <td>135397</td>\n",
       "      <td>tt0369610</td>\n",
       "      <td>32.985763</td>\n",
       "      <td>150000000</td>\n",
       "      <td>1513528810</td>\n",
       "      <td>Jurassic World</td>\n",
       "      <td>Chris Pratt|Bryce Dallas Howard|Irrfan Khan|Vi...</td>\n",
       "      <td>http://www.jurassicworld.com/</td>\n",
       "      <td>Colin Trevorrow</td>\n",
       "      <td>The park is open.</td>\n",
       "      <td>...</td>\n",
       "      <td>Twenty-two years after the events of Jurassic ...</td>\n",
       "      <td>124</td>\n",
       "      <td>Action|Adventure|Science Fiction|Thriller</td>\n",
       "      <td>Universal Studios|Amblin Entertainment|Legenda...</td>\n",
       "      <td>6/9/15</td>\n",
       "      <td>5562</td>\n",
       "      <td>6.5</td>\n",
       "      <td>2015</td>\n",
       "      <td>1.379999e+08</td>\n",
       "      <td>1.392446e+09</td>\n",
       "    </tr>\n",
       "    <tr>\n",
       "      <th>1</th>\n",
       "      <td>76341</td>\n",
       "      <td>tt1392190</td>\n",
       "      <td>28.419936</td>\n",
       "      <td>150000000</td>\n",
       "      <td>378436354</td>\n",
       "      <td>Mad Max: Fury Road</td>\n",
       "      <td>Tom Hardy|Charlize Theron|Hugh Keays-Byrne|Nic...</td>\n",
       "      <td>http://www.madmaxmovie.com/</td>\n",
       "      <td>George Miller</td>\n",
       "      <td>What a Lovely Day.</td>\n",
       "      <td>...</td>\n",
       "      <td>An apocalyptic story set in the furthest reach...</td>\n",
       "      <td>120</td>\n",
       "      <td>Action|Adventure|Science Fiction|Thriller</td>\n",
       "      <td>Village Roadshow Pictures|Kennedy Miller Produ...</td>\n",
       "      <td>5/13/15</td>\n",
       "      <td>6185</td>\n",
       "      <td>7.1</td>\n",
       "      <td>2015</td>\n",
       "      <td>1.379999e+08</td>\n",
       "      <td>3.481613e+08</td>\n",
       "    </tr>\n",
       "    <tr>\n",
       "      <th>2</th>\n",
       "      <td>262500</td>\n",
       "      <td>tt2908446</td>\n",
       "      <td>13.112507</td>\n",
       "      <td>110000000</td>\n",
       "      <td>295238201</td>\n",
       "      <td>Insurgent</td>\n",
       "      <td>Shailene Woodley|Theo James|Kate Winslet|Ansel...</td>\n",
       "      <td>http://www.thedivergentseries.movie/#insurgent</td>\n",
       "      <td>Robert Schwentke</td>\n",
       "      <td>One Choice Can Destroy You</td>\n",
       "      <td>...</td>\n",
       "      <td>Beatrice Prior must confront her inner demons ...</td>\n",
       "      <td>119</td>\n",
       "      <td>Adventure|Science Fiction|Thriller</td>\n",
       "      <td>Summit Entertainment|Mandeville Films|Red Wago...</td>\n",
       "      <td>3/18/15</td>\n",
       "      <td>2480</td>\n",
       "      <td>6.3</td>\n",
       "      <td>2015</td>\n",
       "      <td>1.012000e+08</td>\n",
       "      <td>2.716190e+08</td>\n",
       "    </tr>\n",
       "    <tr>\n",
       "      <th>3</th>\n",
       "      <td>140607</td>\n",
       "      <td>tt2488496</td>\n",
       "      <td>11.173104</td>\n",
       "      <td>200000000</td>\n",
       "      <td>2068178225</td>\n",
       "      <td>Star Wars: The Force Awakens</td>\n",
       "      <td>Harrison Ford|Mark Hamill|Carrie Fisher|Adam D...</td>\n",
       "      <td>http://www.starwars.com/films/star-wars-episod...</td>\n",
       "      <td>J.J. Abrams</td>\n",
       "      <td>Every generation has a story.</td>\n",
       "      <td>...</td>\n",
       "      <td>Thirty years after defeating the Galactic Empi...</td>\n",
       "      <td>136</td>\n",
       "      <td>Action|Adventure|Science Fiction|Fantasy</td>\n",
       "      <td>Lucasfilm|Truenorth Productions|Bad Robot</td>\n",
       "      <td>12/15/15</td>\n",
       "      <td>5292</td>\n",
       "      <td>7.5</td>\n",
       "      <td>2015</td>\n",
       "      <td>1.839999e+08</td>\n",
       "      <td>1.902723e+09</td>\n",
       "    </tr>\n",
       "    <tr>\n",
       "      <th>4</th>\n",
       "      <td>168259</td>\n",
       "      <td>tt2820852</td>\n",
       "      <td>9.335014</td>\n",
       "      <td>190000000</td>\n",
       "      <td>1506249360</td>\n",
       "      <td>Furious 7</td>\n",
       "      <td>Vin Diesel|Paul Walker|Jason Statham|Michelle ...</td>\n",
       "      <td>http://www.furious7.com/</td>\n",
       "      <td>James Wan</td>\n",
       "      <td>Vengeance Hits Home</td>\n",
       "      <td>...</td>\n",
       "      <td>Deckard Shaw seeks revenge against Dominic Tor...</td>\n",
       "      <td>137</td>\n",
       "      <td>Action|Crime|Thriller</td>\n",
       "      <td>Universal Pictures|Original Film|Media Rights ...</td>\n",
       "      <td>4/1/15</td>\n",
       "      <td>2947</td>\n",
       "      <td>7.3</td>\n",
       "      <td>2015</td>\n",
       "      <td>1.747999e+08</td>\n",
       "      <td>1.385749e+09</td>\n",
       "    </tr>\n",
       "  </tbody>\n",
       "</table>\n",
       "<p>5 rows × 21 columns</p>\n",
       "</div>"
      ],
      "text/plain": [
       "       id    imdb_id  popularity     budget     revenue  \\\n",
       "0  135397  tt0369610   32.985763  150000000  1513528810   \n",
       "1   76341  tt1392190   28.419936  150000000   378436354   \n",
       "2  262500  tt2908446   13.112507  110000000   295238201   \n",
       "3  140607  tt2488496   11.173104  200000000  2068178225   \n",
       "4  168259  tt2820852    9.335014  190000000  1506249360   \n",
       "\n",
       "                 original_title  \\\n",
       "0                Jurassic World   \n",
       "1            Mad Max: Fury Road   \n",
       "2                     Insurgent   \n",
       "3  Star Wars: The Force Awakens   \n",
       "4                     Furious 7   \n",
       "\n",
       "                                                cast  \\\n",
       "0  Chris Pratt|Bryce Dallas Howard|Irrfan Khan|Vi...   \n",
       "1  Tom Hardy|Charlize Theron|Hugh Keays-Byrne|Nic...   \n",
       "2  Shailene Woodley|Theo James|Kate Winslet|Ansel...   \n",
       "3  Harrison Ford|Mark Hamill|Carrie Fisher|Adam D...   \n",
       "4  Vin Diesel|Paul Walker|Jason Statham|Michelle ...   \n",
       "\n",
       "                                            homepage          director  \\\n",
       "0                      http://www.jurassicworld.com/   Colin Trevorrow   \n",
       "1                        http://www.madmaxmovie.com/     George Miller   \n",
       "2     http://www.thedivergentseries.movie/#insurgent  Robert Schwentke   \n",
       "3  http://www.starwars.com/films/star-wars-episod...       J.J. Abrams   \n",
       "4                           http://www.furious7.com/         James Wan   \n",
       "\n",
       "                         tagline  ...  \\\n",
       "0              The park is open.  ...   \n",
       "1             What a Lovely Day.  ...   \n",
       "2     One Choice Can Destroy You  ...   \n",
       "3  Every generation has a story.  ...   \n",
       "4            Vengeance Hits Home  ...   \n",
       "\n",
       "                                            overview runtime  \\\n",
       "0  Twenty-two years after the events of Jurassic ...     124   \n",
       "1  An apocalyptic story set in the furthest reach...     120   \n",
       "2  Beatrice Prior must confront her inner demons ...     119   \n",
       "3  Thirty years after defeating the Galactic Empi...     136   \n",
       "4  Deckard Shaw seeks revenge against Dominic Tor...     137   \n",
       "\n",
       "                                      genres  \\\n",
       "0  Action|Adventure|Science Fiction|Thriller   \n",
       "1  Action|Adventure|Science Fiction|Thriller   \n",
       "2         Adventure|Science Fiction|Thriller   \n",
       "3   Action|Adventure|Science Fiction|Fantasy   \n",
       "4                      Action|Crime|Thriller   \n",
       "\n",
       "                                production_companies release_date vote_count  \\\n",
       "0  Universal Studios|Amblin Entertainment|Legenda...       6/9/15       5562   \n",
       "1  Village Roadshow Pictures|Kennedy Miller Produ...      5/13/15       6185   \n",
       "2  Summit Entertainment|Mandeville Films|Red Wago...      3/18/15       2480   \n",
       "3          Lucasfilm|Truenorth Productions|Bad Robot     12/15/15       5292   \n",
       "4  Universal Pictures|Original Film|Media Rights ...       4/1/15       2947   \n",
       "\n",
       "   vote_average  release_year    budget_adj   revenue_adj  \n",
       "0           6.5          2015  1.379999e+08  1.392446e+09  \n",
       "1           7.1          2015  1.379999e+08  3.481613e+08  \n",
       "2           6.3          2015  1.012000e+08  2.716190e+08  \n",
       "3           7.5          2015  1.839999e+08  1.902723e+09  \n",
       "4           7.3          2015  1.747999e+08  1.385749e+09  \n",
       "\n",
       "[5 rows x 21 columns]"
      ]
     },
     "execution_count": 5,
     "metadata": {},
     "output_type": "execute_result"
    }
   ],
   "source": [
    "df.head()"
   ]
  },
  {
   "cell_type": "code",
   "execution_count": 6,
   "id": "8d94f2b1",
   "metadata": {},
   "outputs": [
    {
     "name": "stdout",
     "output_type": "stream",
     "text": [
      "<class 'pandas.core.frame.DataFrame'>\n",
      "RangeIndex: 10866 entries, 0 to 10865\n",
      "Data columns (total 21 columns):\n",
      " #   Column                Non-Null Count  Dtype  \n",
      "---  ------                --------------  -----  \n",
      " 0   id                    10866 non-null  int64  \n",
      " 1   imdb_id               10856 non-null  object \n",
      " 2   popularity            10866 non-null  float64\n",
      " 3   budget                10866 non-null  int64  \n",
      " 4   revenue               10866 non-null  int64  \n",
      " 5   original_title        10866 non-null  object \n",
      " 6   cast                  10790 non-null  object \n",
      " 7   homepage              2936 non-null   object \n",
      " 8   director              10822 non-null  object \n",
      " 9   tagline               8042 non-null   object \n",
      " 10  keywords              9373 non-null   object \n",
      " 11  overview              10862 non-null  object \n",
      " 12  runtime               10866 non-null  int64  \n",
      " 13  genres                10843 non-null  object \n",
      " 14  production_companies  9836 non-null   object \n",
      " 15  release_date          10866 non-null  object \n",
      " 16  vote_count            10866 non-null  int64  \n",
      " 17  vote_average          10866 non-null  float64\n",
      " 18  release_year          10866 non-null  int64  \n",
      " 19  budget_adj            10866 non-null  float64\n",
      " 20  revenue_adj           10866 non-null  float64\n",
      "dtypes: float64(4), int64(6), object(11)\n",
      "memory usage: 1.7+ MB\n"
     ]
    }
   ],
   "source": [
    "df.info()"
   ]
  },
  {
   "cell_type": "markdown",
   "id": "5f4f476c",
   "metadata": {},
   "source": [
    "There are many columns that have Missing Values like\n",
    "<ul>\n",
    "<li>cast\n",
    "<li>homepage\n",
    "<li>director\n",
    "<li>tagline\n",
    "<ul>\n"
   ]
  },
  {
   "cell_type": "code",
   "execution_count": 7,
   "id": "79a6ae95",
   "metadata": {},
   "outputs": [
    {
     "data": {
      "text/plain": [
       "0           5696\n",
       "20000000     190\n",
       "15000000     183\n",
       "25000000     178\n",
       "10000000     176\n",
       "            ... \n",
       "40000          1\n",
       "28             1\n",
       "68             1\n",
       "3500159        1\n",
       "19000          1\n",
       "Name: budget, Length: 557, dtype: int64"
      ]
     },
     "execution_count": 7,
     "metadata": {},
     "output_type": "execute_result"
    }
   ],
   "source": [
    "df.budget.value_counts()"
   ]
  },
  {
   "cell_type": "code",
   "execution_count": 8,
   "id": "0d5bd314",
   "metadata": {},
   "outputs": [
    {
     "data": {
      "text/plain": [
       "0            6016\n",
       "12000000       10\n",
       "10000000        8\n",
       "11000000        7\n",
       "6000000         6\n",
       "             ... \n",
       "93354918        1\n",
       "76578641        1\n",
       "171269535       1\n",
       "215000000       1\n",
       "33736689        1\n",
       "Name: revenue, Length: 4702, dtype: int64"
      ]
     },
     "execution_count": 8,
     "metadata": {},
     "output_type": "execute_result"
    }
   ],
   "source": [
    "df.revenue.value_counts()"
   ]
  },
  {
   "cell_type": "code",
   "execution_count": 9,
   "id": "44e55911",
   "metadata": {},
   "outputs": [
    {
     "data": {
      "text/plain": [
       "'%52.42039388919566 of budgets are 0 and %55.365359838026876 of revenues are 0'"
      ]
     },
     "execution_count": 9,
     "metadata": {},
     "output_type": "execute_result"
    }
   ],
   "source": [
    "bud=df.budget.value_counts()[0]/10866*100\n",
    "rev=df.revenue.value_counts()[0]/10866*100\n",
    "\"%{} of budgets are 0 and %{} of revenues are 0\".format(bud,rev)"
   ]
  },
  {
   "cell_type": "markdown",
   "id": "99ff646f",
   "metadata": {},
   "source": [
    "There is big Issue in our Dataset which is half of our budgets and Revenues of movies are Zeros<br>\n",
    "this issue will affect our analysis and we need to treat them to make better conlusion out of this dataset "
   ]
  },
  {
   "cell_type": "markdown",
   "id": "cc3ccea4",
   "metadata": {},
   "source": [
    "### Data Cleaning"
   ]
  },
  {
   "cell_type": "code",
   "execution_count": 10,
   "id": "679dbd9e",
   "metadata": {},
   "outputs": [],
   "source": [
    "#we dropped the columns that we don't need in our analysis \n",
    "# we will use the budget_adj and revenue_adj becuse we make sure that all movies have the same value of money and\n",
    "#no external variables like inflation could change the value of money of every movie\n",
    "df.drop(['imdb_id','homepage','overview','budget','revenue'],axis=1,inplace=True)"
   ]
  },
  {
   "cell_type": "code",
   "execution_count": 11,
   "id": "618aa33a",
   "metadata": {},
   "outputs": [],
   "source": [
    "df.rename(columns={'budget_adj':'budget','revenue_adj':'revenue'},inplace=True)"
   ]
  },
  {
   "cell_type": "code",
   "execution_count": 12,
   "id": "aca03355",
   "metadata": {},
   "outputs": [
    {
     "data": {
      "text/html": [
       "<div>\n",
       "<style scoped>\n",
       "    .dataframe tbody tr th:only-of-type {\n",
       "        vertical-align: middle;\n",
       "    }\n",
       "\n",
       "    .dataframe tbody tr th {\n",
       "        vertical-align: top;\n",
       "    }\n",
       "\n",
       "    .dataframe thead th {\n",
       "        text-align: right;\n",
       "    }\n",
       "</style>\n",
       "<table border=\"1\" class=\"dataframe\">\n",
       "  <thead>\n",
       "    <tr style=\"text-align: right;\">\n",
       "      <th></th>\n",
       "      <th>id</th>\n",
       "      <th>popularity</th>\n",
       "      <th>original_title</th>\n",
       "      <th>cast</th>\n",
       "      <th>director</th>\n",
       "      <th>tagline</th>\n",
       "      <th>keywords</th>\n",
       "      <th>runtime</th>\n",
       "      <th>genres</th>\n",
       "      <th>production_companies</th>\n",
       "      <th>release_date</th>\n",
       "      <th>vote_count</th>\n",
       "      <th>vote_average</th>\n",
       "      <th>release_year</th>\n",
       "      <th>budget</th>\n",
       "      <th>revenue</th>\n",
       "    </tr>\n",
       "  </thead>\n",
       "  <tbody>\n",
       "    <tr>\n",
       "      <th>0</th>\n",
       "      <td>135397</td>\n",
       "      <td>32.985763</td>\n",
       "      <td>Jurassic World</td>\n",
       "      <td>Chris Pratt|Bryce Dallas Howard|Irrfan Khan|Vi...</td>\n",
       "      <td>Colin Trevorrow</td>\n",
       "      <td>The park is open.</td>\n",
       "      <td>monster|dna|tyrannosaurus rex|velociraptor|island</td>\n",
       "      <td>124</td>\n",
       "      <td>Action|Adventure|Science Fiction|Thriller</td>\n",
       "      <td>Universal Studios|Amblin Entertainment|Legenda...</td>\n",
       "      <td>6/9/15</td>\n",
       "      <td>5562</td>\n",
       "      <td>6.5</td>\n",
       "      <td>2015</td>\n",
       "      <td>1.379999e+08</td>\n",
       "      <td>1.392446e+09</td>\n",
       "    </tr>\n",
       "    <tr>\n",
       "      <th>1</th>\n",
       "      <td>76341</td>\n",
       "      <td>28.419936</td>\n",
       "      <td>Mad Max: Fury Road</td>\n",
       "      <td>Tom Hardy|Charlize Theron|Hugh Keays-Byrne|Nic...</td>\n",
       "      <td>George Miller</td>\n",
       "      <td>What a Lovely Day.</td>\n",
       "      <td>future|chase|post-apocalyptic|dystopia|australia</td>\n",
       "      <td>120</td>\n",
       "      <td>Action|Adventure|Science Fiction|Thriller</td>\n",
       "      <td>Village Roadshow Pictures|Kennedy Miller Produ...</td>\n",
       "      <td>5/13/15</td>\n",
       "      <td>6185</td>\n",
       "      <td>7.1</td>\n",
       "      <td>2015</td>\n",
       "      <td>1.379999e+08</td>\n",
       "      <td>3.481613e+08</td>\n",
       "    </tr>\n",
       "  </tbody>\n",
       "</table>\n",
       "</div>"
      ],
      "text/plain": [
       "       id  popularity      original_title  \\\n",
       "0  135397   32.985763      Jurassic World   \n",
       "1   76341   28.419936  Mad Max: Fury Road   \n",
       "\n",
       "                                                cast         director  \\\n",
       "0  Chris Pratt|Bryce Dallas Howard|Irrfan Khan|Vi...  Colin Trevorrow   \n",
       "1  Tom Hardy|Charlize Theron|Hugh Keays-Byrne|Nic...    George Miller   \n",
       "\n",
       "              tagline                                           keywords  \\\n",
       "0   The park is open.  monster|dna|tyrannosaurus rex|velociraptor|island   \n",
       "1  What a Lovely Day.   future|chase|post-apocalyptic|dystopia|australia   \n",
       "\n",
       "   runtime                                     genres  \\\n",
       "0      124  Action|Adventure|Science Fiction|Thriller   \n",
       "1      120  Action|Adventure|Science Fiction|Thriller   \n",
       "\n",
       "                                production_companies release_date  vote_count  \\\n",
       "0  Universal Studios|Amblin Entertainment|Legenda...       6/9/15        5562   \n",
       "1  Village Roadshow Pictures|Kennedy Miller Produ...      5/13/15        6185   \n",
       "\n",
       "   vote_average  release_year        budget       revenue  \n",
       "0           6.5          2015  1.379999e+08  1.392446e+09  \n",
       "1           7.1          2015  1.379999e+08  3.481613e+08  "
      ]
     },
     "execution_count": 12,
     "metadata": {},
     "output_type": "execute_result"
    }
   ],
   "source": [
    "df.head(2)"
   ]
  },
  {
   "cell_type": "code",
   "execution_count": 13,
   "id": "c84612d2",
   "metadata": {},
   "outputs": [
    {
     "name": "stdout",
     "output_type": "stream",
     "text": [
      "<class 'pandas.core.frame.DataFrame'>\n",
      "RangeIndex: 10866 entries, 0 to 10865\n",
      "Data columns (total 16 columns):\n",
      " #   Column                Non-Null Count  Dtype  \n",
      "---  ------                --------------  -----  \n",
      " 0   id                    10866 non-null  int64  \n",
      " 1   popularity            10866 non-null  float64\n",
      " 2   original_title        10866 non-null  object \n",
      " 3   cast                  10790 non-null  object \n",
      " 4   director              10822 non-null  object \n",
      " 5   tagline               8042 non-null   object \n",
      " 6   keywords              9373 non-null   object \n",
      " 7   runtime               10866 non-null  int64  \n",
      " 8   genres                10843 non-null  object \n",
      " 9   production_companies  9836 non-null   object \n",
      " 10  release_date          10866 non-null  object \n",
      " 11  vote_count            10866 non-null  int64  \n",
      " 12  vote_average          10866 non-null  float64\n",
      " 13  release_year          10866 non-null  int64  \n",
      " 14  budget                10866 non-null  float64\n",
      " 15  revenue               10866 non-null  float64\n",
      "dtypes: float64(4), int64(4), object(8)\n",
      "memory usage: 1.3+ MB\n"
     ]
    }
   ],
   "source": [
    "df.info()"
   ]
  },
  {
   "cell_type": "code",
   "execution_count": 14,
   "id": "b5edd14d",
   "metadata": {},
   "outputs": [],
   "source": [
    "# we will drop all missing values in cast , director and genres \n",
    "df.dropna(subset=['cast','director','genres'], inplace=True)"
   ]
  },
  {
   "cell_type": "code",
   "execution_count": 15,
   "id": "f3ea4848",
   "metadata": {},
   "outputs": [],
   "source": [
    "# as for Taglin and keywords and production companies \n",
    "# i will replace the missing value with no_value \n",
    "df.tagline.fillna('No_Tagline',inplace=True)\n",
    "df.keywords.fillna('No_Keywords',inplace=True)\n",
    "df.production_companies.fillna('No_ProdComp',inplace=True)"
   ]
  },
  {
   "cell_type": "code",
   "execution_count": 16,
   "id": "d4aff8c9",
   "metadata": {},
   "outputs": [
    {
     "name": "stdout",
     "output_type": "stream",
     "text": [
      "<class 'pandas.core.frame.DataFrame'>\n",
      "Int64Index: 10732 entries, 0 to 10865\n",
      "Data columns (total 16 columns):\n",
      " #   Column                Non-Null Count  Dtype  \n",
      "---  ------                --------------  -----  \n",
      " 0   id                    10732 non-null  int64  \n",
      " 1   popularity            10732 non-null  float64\n",
      " 2   original_title        10732 non-null  object \n",
      " 3   cast                  10732 non-null  object \n",
      " 4   director              10732 non-null  object \n",
      " 5   tagline               10732 non-null  object \n",
      " 6   keywords              10732 non-null  object \n",
      " 7   runtime               10732 non-null  int64  \n",
      " 8   genres                10732 non-null  object \n",
      " 9   production_companies  10732 non-null  object \n",
      " 10  release_date          10732 non-null  object \n",
      " 11  vote_count            10732 non-null  int64  \n",
      " 12  vote_average          10732 non-null  float64\n",
      " 13  release_year          10732 non-null  int64  \n",
      " 14  budget                10732 non-null  float64\n",
      " 15  revenue               10732 non-null  float64\n",
      "dtypes: float64(4), int64(4), object(8)\n",
      "memory usage: 1.4+ MB\n"
     ]
    }
   ],
   "source": [
    "df.info()"
   ]
  },
  {
   "cell_type": "markdown",
   "id": "56f2c465",
   "metadata": {},
   "source": [
    "Now all the missing values are gone <br>\n",
    "we will fix the type of release_date to make it datetime"
   ]
  },
  {
   "cell_type": "code",
   "execution_count": 17,
   "id": "b3358078",
   "metadata": {},
   "outputs": [],
   "source": [
    "df.release_date=pd.to_datetime(df.release_date)"
   ]
  },
  {
   "cell_type": "code",
   "execution_count": 18,
   "id": "868d71fe",
   "metadata": {},
   "outputs": [
    {
     "data": {
      "text/html": [
       "<div>\n",
       "<style scoped>\n",
       "    .dataframe tbody tr th:only-of-type {\n",
       "        vertical-align: middle;\n",
       "    }\n",
       "\n",
       "    .dataframe tbody tr th {\n",
       "        vertical-align: top;\n",
       "    }\n",
       "\n",
       "    .dataframe thead th {\n",
       "        text-align: right;\n",
       "    }\n",
       "</style>\n",
       "<table border=\"1\" class=\"dataframe\">\n",
       "  <thead>\n",
       "    <tr style=\"text-align: right;\">\n",
       "      <th></th>\n",
       "      <th>id</th>\n",
       "      <th>popularity</th>\n",
       "      <th>original_title</th>\n",
       "      <th>cast</th>\n",
       "      <th>director</th>\n",
       "      <th>tagline</th>\n",
       "      <th>keywords</th>\n",
       "      <th>runtime</th>\n",
       "      <th>genres</th>\n",
       "      <th>production_companies</th>\n",
       "      <th>release_date</th>\n",
       "      <th>vote_count</th>\n",
       "      <th>vote_average</th>\n",
       "      <th>release_year</th>\n",
       "      <th>budget</th>\n",
       "      <th>revenue</th>\n",
       "    </tr>\n",
       "  </thead>\n",
       "  <tbody>\n",
       "    <tr>\n",
       "      <th>0</th>\n",
       "      <td>135397</td>\n",
       "      <td>32.985763</td>\n",
       "      <td>Jurassic World</td>\n",
       "      <td>Chris Pratt|Bryce Dallas Howard|Irrfan Khan|Vi...</td>\n",
       "      <td>Colin Trevorrow</td>\n",
       "      <td>The park is open.</td>\n",
       "      <td>monster|dna|tyrannosaurus rex|velociraptor|island</td>\n",
       "      <td>124</td>\n",
       "      <td>Action|Adventure|Science Fiction|Thriller</td>\n",
       "      <td>Universal Studios|Amblin Entertainment|Legenda...</td>\n",
       "      <td>2015-06-09</td>\n",
       "      <td>5562</td>\n",
       "      <td>6.5</td>\n",
       "      <td>2015</td>\n",
       "      <td>1.379999e+08</td>\n",
       "      <td>1.392446e+09</td>\n",
       "    </tr>\n",
       "    <tr>\n",
       "      <th>1</th>\n",
       "      <td>76341</td>\n",
       "      <td>28.419936</td>\n",
       "      <td>Mad Max: Fury Road</td>\n",
       "      <td>Tom Hardy|Charlize Theron|Hugh Keays-Byrne|Nic...</td>\n",
       "      <td>George Miller</td>\n",
       "      <td>What a Lovely Day.</td>\n",
       "      <td>future|chase|post-apocalyptic|dystopia|australia</td>\n",
       "      <td>120</td>\n",
       "      <td>Action|Adventure|Science Fiction|Thriller</td>\n",
       "      <td>Village Roadshow Pictures|Kennedy Miller Produ...</td>\n",
       "      <td>2015-05-13</td>\n",
       "      <td>6185</td>\n",
       "      <td>7.1</td>\n",
       "      <td>2015</td>\n",
       "      <td>1.379999e+08</td>\n",
       "      <td>3.481613e+08</td>\n",
       "    </tr>\n",
       "  </tbody>\n",
       "</table>\n",
       "</div>"
      ],
      "text/plain": [
       "       id  popularity      original_title  \\\n",
       "0  135397   32.985763      Jurassic World   \n",
       "1   76341   28.419936  Mad Max: Fury Road   \n",
       "\n",
       "                                                cast         director  \\\n",
       "0  Chris Pratt|Bryce Dallas Howard|Irrfan Khan|Vi...  Colin Trevorrow   \n",
       "1  Tom Hardy|Charlize Theron|Hugh Keays-Byrne|Nic...    George Miller   \n",
       "\n",
       "              tagline                                           keywords  \\\n",
       "0   The park is open.  monster|dna|tyrannosaurus rex|velociraptor|island   \n",
       "1  What a Lovely Day.   future|chase|post-apocalyptic|dystopia|australia   \n",
       "\n",
       "   runtime                                     genres  \\\n",
       "0      124  Action|Adventure|Science Fiction|Thriller   \n",
       "1      120  Action|Adventure|Science Fiction|Thriller   \n",
       "\n",
       "                                production_companies release_date  vote_count  \\\n",
       "0  Universal Studios|Amblin Entertainment|Legenda...   2015-06-09        5562   \n",
       "1  Village Roadshow Pictures|Kennedy Miller Produ...   2015-05-13        6185   \n",
       "\n",
       "   vote_average  release_year        budget       revenue  \n",
       "0           6.5          2015  1.379999e+08  1.392446e+09  \n",
       "1           7.1          2015  1.379999e+08  3.481613e+08  "
      ]
     },
     "execution_count": 18,
     "metadata": {},
     "output_type": "execute_result"
    }
   ],
   "source": [
    "df.head(2)"
   ]
  },
  {
   "cell_type": "code",
   "execution_count": 19,
   "id": "4c32b867",
   "metadata": {},
   "outputs": [
    {
     "data": {
      "text/html": [
       "<div>\n",
       "<style scoped>\n",
       "    .dataframe tbody tr th:only-of-type {\n",
       "        vertical-align: middle;\n",
       "    }\n",
       "\n",
       "    .dataframe tbody tr th {\n",
       "        vertical-align: top;\n",
       "    }\n",
       "\n",
       "    .dataframe thead th {\n",
       "        text-align: right;\n",
       "    }\n",
       "</style>\n",
       "<table border=\"1\" class=\"dataframe\">\n",
       "  <thead>\n",
       "    <tr style=\"text-align: right;\">\n",
       "      <th></th>\n",
       "      <th>vote_average</th>\n",
       "      <th>release_year</th>\n",
       "      <th>budget</th>\n",
       "    </tr>\n",
       "  </thead>\n",
       "  <tbody>\n",
       "    <tr>\n",
       "      <th>0</th>\n",
       "      <td>6.5</td>\n",
       "      <td>2015</td>\n",
       "      <td>1.379999e+08</td>\n",
       "    </tr>\n",
       "    <tr>\n",
       "      <th>1</th>\n",
       "      <td>7.1</td>\n",
       "      <td>2015</td>\n",
       "      <td>1.379999e+08</td>\n",
       "    </tr>\n",
       "    <tr>\n",
       "      <th>2</th>\n",
       "      <td>6.3</td>\n",
       "      <td>2015</td>\n",
       "      <td>1.012000e+08</td>\n",
       "    </tr>\n",
       "    <tr>\n",
       "      <th>3</th>\n",
       "      <td>7.5</td>\n",
       "      <td>2015</td>\n",
       "      <td>1.839999e+08</td>\n",
       "    </tr>\n",
       "    <tr>\n",
       "      <th>4</th>\n",
       "      <td>7.3</td>\n",
       "      <td>2015</td>\n",
       "      <td>1.747999e+08</td>\n",
       "    </tr>\n",
       "    <tr>\n",
       "      <th>...</th>\n",
       "      <td>...</td>\n",
       "      <td>...</td>\n",
       "      <td>...</td>\n",
       "    </tr>\n",
       "    <tr>\n",
       "      <th>10861</th>\n",
       "      <td>7.4</td>\n",
       "      <td>1966</td>\n",
       "      <td>0.000000e+00</td>\n",
       "    </tr>\n",
       "    <tr>\n",
       "      <th>10862</th>\n",
       "      <td>5.7</td>\n",
       "      <td>1966</td>\n",
       "      <td>0.000000e+00</td>\n",
       "    </tr>\n",
       "    <tr>\n",
       "      <th>10863</th>\n",
       "      <td>6.5</td>\n",
       "      <td>1966</td>\n",
       "      <td>0.000000e+00</td>\n",
       "    </tr>\n",
       "    <tr>\n",
       "      <th>10864</th>\n",
       "      <td>5.4</td>\n",
       "      <td>1966</td>\n",
       "      <td>0.000000e+00</td>\n",
       "    </tr>\n",
       "    <tr>\n",
       "      <th>10865</th>\n",
       "      <td>1.5</td>\n",
       "      <td>1966</td>\n",
       "      <td>1.276423e+05</td>\n",
       "    </tr>\n",
       "  </tbody>\n",
       "</table>\n",
       "<p>10732 rows × 3 columns</p>\n",
       "</div>"
      ],
      "text/plain": [
       "       vote_average  release_year        budget\n",
       "0               6.5          2015  1.379999e+08\n",
       "1               7.1          2015  1.379999e+08\n",
       "2               6.3          2015  1.012000e+08\n",
       "3               7.5          2015  1.839999e+08\n",
       "4               7.3          2015  1.747999e+08\n",
       "...             ...           ...           ...\n",
       "10861           7.4          1966  0.000000e+00\n",
       "10862           5.7          1966  0.000000e+00\n",
       "10863           6.5          1966  0.000000e+00\n",
       "10864           5.4          1966  0.000000e+00\n",
       "10865           1.5          1966  1.276423e+05\n",
       "\n",
       "[10732 rows x 3 columns]"
      ]
     },
     "execution_count": 19,
     "metadata": {},
     "output_type": "execute_result"
    }
   ],
   "source": [
    "df.iloc[:,-4:-1]"
   ]
  },
  {
   "cell_type": "code",
   "execution_count": 20,
   "id": "da6bfda1",
   "metadata": {},
   "outputs": [
    {
     "data": {
      "text/html": [
       "<div>\n",
       "<style scoped>\n",
       "    .dataframe tbody tr th:only-of-type {\n",
       "        vertical-align: middle;\n",
       "    }\n",
       "\n",
       "    .dataframe tbody tr th {\n",
       "        vertical-align: top;\n",
       "    }\n",
       "\n",
       "    .dataframe thead th {\n",
       "        text-align: right;\n",
       "    }\n",
       "</style>\n",
       "<table border=\"1\" class=\"dataframe\">\n",
       "  <thead>\n",
       "    <tr style=\"text-align: right;\">\n",
       "      <th></th>\n",
       "      <th>id</th>\n",
       "      <th>popularity</th>\n",
       "      <th>original_title</th>\n",
       "      <th>cast</th>\n",
       "      <th>director</th>\n",
       "      <th>tagline</th>\n",
       "      <th>keywords</th>\n",
       "      <th>runtime</th>\n",
       "      <th>genres</th>\n",
       "      <th>production_companies</th>\n",
       "      <th>release_date</th>\n",
       "      <th>vote_count</th>\n",
       "      <th>vote_average</th>\n",
       "      <th>release_year</th>\n",
       "      <th>budget</th>\n",
       "      <th>revenue</th>\n",
       "    </tr>\n",
       "  </thead>\n",
       "  <tbody>\n",
       "    <tr>\n",
       "      <th>92</th>\n",
       "      <td>370687</td>\n",
       "      <td>1.876037</td>\n",
       "      <td>Mythica: The Necromancer</td>\n",
       "      <td>Melanie Stone|Adam Johnson|Kevin Sorbo|Nicola ...</td>\n",
       "      <td>A. Todd Smith</td>\n",
       "      <td>No_Tagline</td>\n",
       "      <td>sword|magic|sorcery|necromancer</td>\n",
       "      <td>0</td>\n",
       "      <td>Fantasy|Action|Adventure</td>\n",
       "      <td>Arrowstorm Entertainment|Camera 40 Productions...</td>\n",
       "      <td>2015-12-19</td>\n",
       "      <td>11</td>\n",
       "      <td>5.4</td>\n",
       "      <td>2015</td>\n",
       "      <td>0.000000e+00</td>\n",
       "      <td>0.0</td>\n",
       "    </tr>\n",
       "    <tr>\n",
       "      <th>334</th>\n",
       "      <td>361931</td>\n",
       "      <td>0.357654</td>\n",
       "      <td>Ronaldo</td>\n",
       "      <td>Cristiano Ronaldo</td>\n",
       "      <td>Anthony Wonke</td>\n",
       "      <td>Astonishing. Intimate. Definitive.</td>\n",
       "      <td>biography|soccer player</td>\n",
       "      <td>0</td>\n",
       "      <td>Documentary</td>\n",
       "      <td>On The Corner Films|We Came, We Saw, We Conque...</td>\n",
       "      <td>2015-11-09</td>\n",
       "      <td>80</td>\n",
       "      <td>6.5</td>\n",
       "      <td>2015</td>\n",
       "      <td>0.000000e+00</td>\n",
       "      <td>0.0</td>\n",
       "    </tr>\n",
       "    <tr>\n",
       "      <th>410</th>\n",
       "      <td>339342</td>\n",
       "      <td>0.097514</td>\n",
       "      <td>Anarchy Parlor</td>\n",
       "      <td>Robert LaSardo|Jordan James Smith|Sara Fabel|T...</td>\n",
       "      <td>Kenny Gage|Devon Downs</td>\n",
       "      <td>No_Tagline</td>\n",
       "      <td>tattoo|tattooing</td>\n",
       "      <td>0</td>\n",
       "      <td>Horror</td>\n",
       "      <td>No_ProdComp</td>\n",
       "      <td>2015-01-01</td>\n",
       "      <td>15</td>\n",
       "      <td>5.6</td>\n",
       "      <td>2015</td>\n",
       "      <td>0.000000e+00</td>\n",
       "      <td>0.0</td>\n",
       "    </tr>\n",
       "    <tr>\n",
       "      <th>445</th>\n",
       "      <td>353345</td>\n",
       "      <td>0.218528</td>\n",
       "      <td>The Exorcism of Molly Hartley</td>\n",
       "      <td>Sarah Lind|Devon Sawa|Gina Holden|Peter MacNei...</td>\n",
       "      <td>Steven R. Monroe</td>\n",
       "      <td>No_Tagline</td>\n",
       "      <td>No_Keywords</td>\n",
       "      <td>0</td>\n",
       "      <td>Horror</td>\n",
       "      <td>WT Canada Productions</td>\n",
       "      <td>2015-10-09</td>\n",
       "      <td>52</td>\n",
       "      <td>5.0</td>\n",
       "      <td>2015</td>\n",
       "      <td>0.000000e+00</td>\n",
       "      <td>0.0</td>\n",
       "    </tr>\n",
       "    <tr>\n",
       "      <th>486</th>\n",
       "      <td>333653</td>\n",
       "      <td>0.176744</td>\n",
       "      <td>If There Be Thorns</td>\n",
       "      <td>Heather Graham|Jason Lewis|Rachael Carpani|Mas...</td>\n",
       "      <td>Nancy Savoca</td>\n",
       "      <td>No_Tagline</td>\n",
       "      <td>woman director</td>\n",
       "      <td>0</td>\n",
       "      <td>TV Movie|Drama</td>\n",
       "      <td>A+E Studios|Jane Startz Productions</td>\n",
       "      <td>2015-04-05</td>\n",
       "      <td>11</td>\n",
       "      <td>5.4</td>\n",
       "      <td>2015</td>\n",
       "      <td>0.000000e+00</td>\n",
       "      <td>0.0</td>\n",
       "    </tr>\n",
       "    <tr>\n",
       "      <th>595</th>\n",
       "      <td>341051</td>\n",
       "      <td>0.028725</td>\n",
       "      <td>Deep Dark</td>\n",
       "      <td>Sean McGrath|Denise Poirier|Anne Sorce|Tabor H...</td>\n",
       "      <td>Michael Medaglia</td>\n",
       "      <td>No_Tagline</td>\n",
       "      <td>No_Keywords</td>\n",
       "      <td>0</td>\n",
       "      <td>Horror</td>\n",
       "      <td>No_ProdComp</td>\n",
       "      <td>2015-01-01</td>\n",
       "      <td>11</td>\n",
       "      <td>4.6</td>\n",
       "      <td>2015</td>\n",
       "      <td>0.000000e+00</td>\n",
       "      <td>0.0</td>\n",
       "    </tr>\n",
       "    <tr>\n",
       "      <th>616</th>\n",
       "      <td>325843</td>\n",
       "      <td>0.026797</td>\n",
       "      <td>The Outfield</td>\n",
       "      <td>Cameron Dallas|Hamilton Nash Grier|Olivia Stuc...</td>\n",
       "      <td>Michael Goldfine</td>\n",
       "      <td>No_Tagline</td>\n",
       "      <td>No_Keywords</td>\n",
       "      <td>0</td>\n",
       "      <td>Drama|Comedy</td>\n",
       "      <td>No_ProdComp</td>\n",
       "      <td>2015-11-10</td>\n",
       "      <td>20</td>\n",
       "      <td>6.6</td>\n",
       "      <td>2015</td>\n",
       "      <td>0.000000e+00</td>\n",
       "      <td>0.0</td>\n",
       "    </tr>\n",
       "    <tr>\n",
       "      <th>1289</th>\n",
       "      <td>286372</td>\n",
       "      <td>0.037459</td>\n",
       "      <td>Treehouse</td>\n",
       "      <td>J. Michael Trautmann|Dana Melanie|Daniel Fredr...</td>\n",
       "      <td>Michael G. Bartlett</td>\n",
       "      <td>No kids allowed</td>\n",
       "      <td>kidnapping|brutality|violence|teenager|discovery</td>\n",
       "      <td>0</td>\n",
       "      <td>Thriller|Horror|Mystery</td>\n",
       "      <td>Tiberius Film</td>\n",
       "      <td>2014-10-20</td>\n",
       "      <td>16</td>\n",
       "      <td>3.4</td>\n",
       "      <td>2014</td>\n",
       "      <td>2.993546e+06</td>\n",
       "      <td>0.0</td>\n",
       "    </tr>\n",
       "    <tr>\n",
       "      <th>1293</th>\n",
       "      <td>286256</td>\n",
       "      <td>0.036904</td>\n",
       "      <td>Tim Maia</td>\n",
       "      <td>Robson Nunes|BabÃº Santana|Alinne Moraes|CauÃ£...</td>\n",
       "      <td>Mauro Lima</td>\n",
       "      <td>Original language PORTUGUESE</td>\n",
       "      <td>brazilian|biography|music|drama|documentary</td>\n",
       "      <td>0</td>\n",
       "      <td>Documentary|Drama|Music</td>\n",
       "      <td>Globo Filmes</td>\n",
       "      <td>2014-10-30</td>\n",
       "      <td>14</td>\n",
       "      <td>6.0</td>\n",
       "      <td>2014</td>\n",
       "      <td>0.000000e+00</td>\n",
       "      <td>0.0</td>\n",
       "    </tr>\n",
       "    <tr>\n",
       "      <th>1849</th>\n",
       "      <td>18247</td>\n",
       "      <td>0.120350</td>\n",
       "      <td>Spectacular!</td>\n",
       "      <td>Nolan Gerard Funk|Jesse Moss|Britt Irvin|Tammi...</td>\n",
       "      <td>Robert Iscove</td>\n",
       "      <td>No_Tagline</td>\n",
       "      <td>No_Keywords</td>\n",
       "      <td>0</td>\n",
       "      <td>Drama|Music</td>\n",
       "      <td>No_ProdComp</td>\n",
       "      <td>2009-02-16</td>\n",
       "      <td>13</td>\n",
       "      <td>5.2</td>\n",
       "      <td>2009</td>\n",
       "      <td>0.000000e+00</td>\n",
       "      <td>0.0</td>\n",
       "    </tr>\n",
       "    <tr>\n",
       "      <th>3329</th>\n",
       "      <td>20414</td>\n",
       "      <td>0.082898</td>\n",
       "      <td>Grande, grosso e Verdone</td>\n",
       "      <td>Carlo Verdone|Claudia Gerini|Eva Riccobono|Vit...</td>\n",
       "      <td>Carlo Verdone</td>\n",
       "      <td>No_Tagline</td>\n",
       "      <td>No_Keywords</td>\n",
       "      <td>0</td>\n",
       "      <td>Family</td>\n",
       "      <td>Filmauro</td>\n",
       "      <td>2008-03-07</td>\n",
       "      <td>35</td>\n",
       "      <td>5.3</td>\n",
       "      <td>2008</td>\n",
       "      <td>0.000000e+00</td>\n",
       "      <td>0.0</td>\n",
       "    </tr>\n",
       "    <tr>\n",
       "      <th>3794</th>\n",
       "      <td>58253</td>\n",
       "      <td>0.183134</td>\n",
       "      <td>Toi, moi, les autres</td>\n",
       "      <td>LeÃ¯la Bekhti|Benjamin Siksou|CÃ©cile Cassel|C...</td>\n",
       "      <td>Audrey Estrougo</td>\n",
       "      <td>No_Tagline</td>\n",
       "      <td>woman director</td>\n",
       "      <td>0</td>\n",
       "      <td>Music|Romance</td>\n",
       "      <td>No_ProdComp</td>\n",
       "      <td>2011-02-22</td>\n",
       "      <td>17</td>\n",
       "      <td>5.2</td>\n",
       "      <td>2011</td>\n",
       "      <td>0.000000e+00</td>\n",
       "      <td>0.0</td>\n",
       "    </tr>\n",
       "    <tr>\n",
       "      <th>3857</th>\n",
       "      <td>289097</td>\n",
       "      <td>0.095583</td>\n",
       "      <td>Cell 213</td>\n",
       "      <td>Bruce Greenwood|Eric Balfour|Michael Rooker|De...</td>\n",
       "      <td>Stephen Kay</td>\n",
       "      <td>No_Tagline</td>\n",
       "      <td>No_Keywords</td>\n",
       "      <td>0</td>\n",
       "      <td>Horror</td>\n",
       "      <td>Access Motion Pictures</td>\n",
       "      <td>2011-06-10</td>\n",
       "      <td>13</td>\n",
       "      <td>5.2</td>\n",
       "      <td>2011</td>\n",
       "      <td>0.000000e+00</td>\n",
       "      <td>0.0</td>\n",
       "    </tr>\n",
       "    <tr>\n",
       "      <th>3884</th>\n",
       "      <td>105885</td>\n",
       "      <td>0.045198</td>\n",
       "      <td>eCupid</td>\n",
       "      <td>Houston Rhines|Andy Anderson|John Callahan|Gal...</td>\n",
       "      <td>J.C. Calciano</td>\n",
       "      <td>No_Tagline</td>\n",
       "      <td>gay couple</td>\n",
       "      <td>0</td>\n",
       "      <td>Romance</td>\n",
       "      <td>No_ProdComp</td>\n",
       "      <td>2011-06-23</td>\n",
       "      <td>12</td>\n",
       "      <td>4.6</td>\n",
       "      <td>2011</td>\n",
       "      <td>0.000000e+00</td>\n",
       "      <td>0.0</td>\n",
       "    </tr>\n",
       "    <tr>\n",
       "      <th>4063</th>\n",
       "      <td>28004</td>\n",
       "      <td>0.371510</td>\n",
       "      <td>Madea's Family Reunion</td>\n",
       "      <td>Tyler Perry|Blair Underwood|Lynn Whitfield|Bor...</td>\n",
       "      <td>Tyler Perry</td>\n",
       "      <td>No_Tagline</td>\n",
       "      <td>No_Keywords</td>\n",
       "      <td>0</td>\n",
       "      <td>Comedy</td>\n",
       "      <td>No_ProdComp</td>\n",
       "      <td>2002-01-25</td>\n",
       "      <td>49</td>\n",
       "      <td>5.9</td>\n",
       "      <td>2002</td>\n",
       "      <td>7.273568e+06</td>\n",
       "      <td>0.0</td>\n",
       "    </tr>\n",
       "    <tr>\n",
       "      <th>4138</th>\n",
       "      <td>44266</td>\n",
       "      <td>0.035895</td>\n",
       "      <td>A Time for Dancing</td>\n",
       "      <td>Larisa Oleynik|Shiri Appleby|Peter Coyote|Patr...</td>\n",
       "      <td>Peter Gilbert</td>\n",
       "      <td>No_Tagline</td>\n",
       "      <td>No_Keywords</td>\n",
       "      <td>0</td>\n",
       "      <td>Drama|Music</td>\n",
       "      <td>No_ProdComp</td>\n",
       "      <td>2002-09-06</td>\n",
       "      <td>14</td>\n",
       "      <td>7.5</td>\n",
       "      <td>2002</td>\n",
       "      <td>0.000000e+00</td>\n",
       "      <td>0.0</td>\n",
       "    </tr>\n",
       "    <tr>\n",
       "      <th>4829</th>\n",
       "      <td>110490</td>\n",
       "      <td>0.140016</td>\n",
       "      <td>Rags</td>\n",
       "      <td>Keke Palmer|Avan Jogia|Drake Bell|Burkely Duff...</td>\n",
       "      <td>Bille Woodruff</td>\n",
       "      <td>No_Tagline</td>\n",
       "      <td>musical</td>\n",
       "      <td>0</td>\n",
       "      <td>TV Movie|Comedy|Drama</td>\n",
       "      <td>No_ProdComp</td>\n",
       "      <td>2012-05-28</td>\n",
       "      <td>24</td>\n",
       "      <td>5.7</td>\n",
       "      <td>2012</td>\n",
       "      <td>0.000000e+00</td>\n",
       "      <td>0.0</td>\n",
       "    </tr>\n",
       "    <tr>\n",
       "      <th>4944</th>\n",
       "      <td>158150</td>\n",
       "      <td>0.026459</td>\n",
       "      <td>How to Fall in Love</td>\n",
       "      <td>Brooke D'Orsay|Eric Mabius|Jody Thompson|Gina ...</td>\n",
       "      <td>Mark Griffiths</td>\n",
       "      <td>No_Tagline</td>\n",
       "      <td>No_Keywords</td>\n",
       "      <td>0</td>\n",
       "      <td>Comedy|Romance|TV Movie</td>\n",
       "      <td>Annuit Coeptis Entertainment Inc.|Annuit Coept...</td>\n",
       "      <td>2012-07-21</td>\n",
       "      <td>11</td>\n",
       "      <td>4.7</td>\n",
       "      <td>2012</td>\n",
       "      <td>0.000000e+00</td>\n",
       "      <td>0.0</td>\n",
       "    </tr>\n",
       "    <tr>\n",
       "      <th>5216</th>\n",
       "      <td>28003</td>\n",
       "      <td>0.073665</td>\n",
       "      <td>Madea's Class Reunion</td>\n",
       "      <td>Tyler Perry|Chandra Currelley|Cheryl Pepsii Ri...</td>\n",
       "      <td>Tyler Perry</td>\n",
       "      <td>No_Tagline</td>\n",
       "      <td>No_Keywords</td>\n",
       "      <td>0</td>\n",
       "      <td>Comedy|Music</td>\n",
       "      <td>No_ProdComp</td>\n",
       "      <td>2003-06-25</td>\n",
       "      <td>12</td>\n",
       "      <td>6.9</td>\n",
       "      <td>2003</td>\n",
       "      <td>0.000000e+00</td>\n",
       "      <td>0.0</td>\n",
       "    </tr>\n",
       "    <tr>\n",
       "      <th>5695</th>\n",
       "      <td>224815</td>\n",
       "      <td>0.417739</td>\n",
       "      <td>Skinwalker Ranch</td>\n",
       "      <td>Steve Berg|Kyle Davis|Erin Cahill|Jon Gries|De...</td>\n",
       "      <td>Devin McGinn</td>\n",
       "      <td>No_Tagline</td>\n",
       "      <td>No_Keywords</td>\n",
       "      <td>0</td>\n",
       "      <td>Thriller|Horror|Science Fiction</td>\n",
       "      <td>DeepStudios</td>\n",
       "      <td>2013-10-30</td>\n",
       "      <td>27</td>\n",
       "      <td>4.3</td>\n",
       "      <td>2013</td>\n",
       "      <td>0.000000e+00</td>\n",
       "      <td>0.0</td>\n",
       "    </tr>\n",
       "    <tr>\n",
       "      <th>5920</th>\n",
       "      <td>248842</td>\n",
       "      <td>0.165765</td>\n",
       "      <td>The Food Guide to Love</td>\n",
       "      <td>Richard Coyle|Leonor Watling|GinÃ©s GarcÃ­a Mi...</td>\n",
       "      <td>Dominic Harari|Teresa Pelegri</td>\n",
       "      <td>No_Tagline</td>\n",
       "      <td>woman director</td>\n",
       "      <td>0</td>\n",
       "      <td>Romance|Comedy</td>\n",
       "      <td>Haut et Court|Parallel Film Productions|Fox In...</td>\n",
       "      <td>2013-12-18</td>\n",
       "      <td>12</td>\n",
       "      <td>5.6</td>\n",
       "      <td>2013</td>\n",
       "      <td>0.000000e+00</td>\n",
       "      <td>0.0</td>\n",
       "    </tr>\n",
       "    <tr>\n",
       "      <th>5938</th>\n",
       "      <td>191562</td>\n",
       "      <td>0.147188</td>\n",
       "      <td>Go Goa Gone</td>\n",
       "      <td>Saif Ali Khan|Anand Tiwari|Vir Das|Pooja Gupta</td>\n",
       "      <td>Krishna D.K.|Raj Nidimoru</td>\n",
       "      <td>No_Tagline</td>\n",
       "      <td>hindi|zombies island|zombies|zombie survival</td>\n",
       "      <td>0</td>\n",
       "      <td>Comedy|Horror</td>\n",
       "      <td>Eros International</td>\n",
       "      <td>2013-05-10</td>\n",
       "      <td>16</td>\n",
       "      <td>5.3</td>\n",
       "      <td>2013</td>\n",
       "      <td>0.000000e+00</td>\n",
       "      <td>0.0</td>\n",
       "    </tr>\n",
       "    <tr>\n",
       "      <th>5992</th>\n",
       "      <td>173847</td>\n",
       "      <td>0.096455</td>\n",
       "      <td>Amiche da morire</td>\n",
       "      <td>Claudia Gerini|Cristiana Capotondi|Sabrina Imp...</td>\n",
       "      <td>Giorgia Farina</td>\n",
       "      <td>No_Tagline</td>\n",
       "      <td>No_Keywords</td>\n",
       "      <td>0</td>\n",
       "      <td>Romance|Crime|Comedy</td>\n",
       "      <td>No_ProdComp</td>\n",
       "      <td>2013-03-07</td>\n",
       "      <td>30</td>\n",
       "      <td>5.5</td>\n",
       "      <td>2013</td>\n",
       "      <td>0.000000e+00</td>\n",
       "      <td>0.0</td>\n",
       "    </tr>\n",
       "    <tr>\n",
       "      <th>6040</th>\n",
       "      <td>202604</td>\n",
       "      <td>0.011798</td>\n",
       "      <td>The Vatican Exorcisms</td>\n",
       "      <td>Joe Marino</td>\n",
       "      <td>Joe Marino</td>\n",
       "      <td>The public were never meant to know</td>\n",
       "      <td>exorcism</td>\n",
       "      <td>0</td>\n",
       "      <td>Horror|Documentary|Mystery</td>\n",
       "      <td>No_ProdComp</td>\n",
       "      <td>2013-05-29</td>\n",
       "      <td>10</td>\n",
       "      <td>4.7</td>\n",
       "      <td>2013</td>\n",
       "      <td>0.000000e+00</td>\n",
       "      <td>0.0</td>\n",
       "    </tr>\n",
       "    <tr>\n",
       "      <th>6383</th>\n",
       "      <td>26985</td>\n",
       "      <td>0.371630</td>\n",
       "      <td>The 12 Dogs of Christmas</td>\n",
       "      <td>Jordan-Claire Green|Tom Kemp|Susan Wood|Adam H...</td>\n",
       "      <td>Kieth Merrill</td>\n",
       "      <td>No_Tagline</td>\n",
       "      <td>holiday</td>\n",
       "      <td>0</td>\n",
       "      <td>Drama|Family</td>\n",
       "      <td>No_ProdComp</td>\n",
       "      <td>2005-11-01</td>\n",
       "      <td>11</td>\n",
       "      <td>4.7</td>\n",
       "      <td>2005</td>\n",
       "      <td>2.233127e+06</td>\n",
       "      <td>0.0</td>\n",
       "    </tr>\n",
       "    <tr>\n",
       "      <th>6552</th>\n",
       "      <td>13739</td>\n",
       "      <td>0.006440</td>\n",
       "      <td>Quatre Ã©toiles</td>\n",
       "      <td>JosÃ© Garcia|Isabelle CarrÃ©|RenÃ©e Le Calm|Fr...</td>\n",
       "      <td>Christian Vincent</td>\n",
       "      <td>No_Tagline</td>\n",
       "      <td>No_Keywords</td>\n",
       "      <td>0</td>\n",
       "      <td>Comedy</td>\n",
       "      <td>No_ProdComp</td>\n",
       "      <td>2005-01-01</td>\n",
       "      <td>15</td>\n",
       "      <td>5.9</td>\n",
       "      <td>2005</td>\n",
       "      <td>0.000000e+00</td>\n",
       "      <td>0.0</td>\n",
       "    </tr>\n",
       "    <tr>\n",
       "      <th>6934</th>\n",
       "      <td>13713</td>\n",
       "      <td>0.071872</td>\n",
       "      <td>Jean-Philippe</td>\n",
       "      <td>Fabrice Luchini|Johnny Hallyday|Jackie Berroye...</td>\n",
       "      <td>Laurent Tuel</td>\n",
       "      <td>No_Tagline</td>\n",
       "      <td>No_Keywords</td>\n",
       "      <td>0</td>\n",
       "      <td>Comedy</td>\n",
       "      <td>FidÃ©litÃ© Productions|StudioCanal|TF1 Films P...</td>\n",
       "      <td>2006-04-05</td>\n",
       "      <td>26</td>\n",
       "      <td>5.6</td>\n",
       "      <td>2006</td>\n",
       "      <td>0.000000e+00</td>\n",
       "      <td>0.0</td>\n",
       "    </tr>\n",
       "    <tr>\n",
       "      <th>8874</th>\n",
       "      <td>46406</td>\n",
       "      <td>0.069903</td>\n",
       "      <td>Mission Kashmir</td>\n",
       "      <td>Sanjay Dutt|Hrithik Roshan|Preity Zinta|Jackie...</td>\n",
       "      <td>Vidhu Vinod Chopra</td>\n",
       "      <td>No_Tagline</td>\n",
       "      <td>No_Keywords</td>\n",
       "      <td>0</td>\n",
       "      <td>Action|Drama|Foreign</td>\n",
       "      <td>No_ProdComp</td>\n",
       "      <td>2000-10-27</td>\n",
       "      <td>10</td>\n",
       "      <td>5.7</td>\n",
       "      <td>2000</td>\n",
       "      <td>0.000000e+00</td>\n",
       "      <td>0.0</td>\n",
       "    </tr>\n",
       "  </tbody>\n",
       "</table>\n",
       "</div>"
      ],
      "text/plain": [
       "          id  popularity                 original_title  \\\n",
       "92    370687    1.876037       Mythica: The Necromancer   \n",
       "334   361931    0.357654                        Ronaldo   \n",
       "410   339342    0.097514                 Anarchy Parlor   \n",
       "445   353345    0.218528  The Exorcism of Molly Hartley   \n",
       "486   333653    0.176744             If There Be Thorns   \n",
       "595   341051    0.028725                      Deep Dark   \n",
       "616   325843    0.026797                   The Outfield   \n",
       "1289  286372    0.037459                      Treehouse   \n",
       "1293  286256    0.036904                       Tim Maia   \n",
       "1849   18247    0.120350                   Spectacular!   \n",
       "3329   20414    0.082898       Grande, grosso e Verdone   \n",
       "3794   58253    0.183134           Toi, moi, les autres   \n",
       "3857  289097    0.095583                       Cell 213   \n",
       "3884  105885    0.045198                         eCupid   \n",
       "4063   28004    0.371510         Madea's Family Reunion   \n",
       "4138   44266    0.035895             A Time for Dancing   \n",
       "4829  110490    0.140016                           Rags   \n",
       "4944  158150    0.026459            How to Fall in Love   \n",
       "5216   28003    0.073665          Madea's Class Reunion   \n",
       "5695  224815    0.417739               Skinwalker Ranch   \n",
       "5920  248842    0.165765         The Food Guide to Love   \n",
       "5938  191562    0.147188                    Go Goa Gone   \n",
       "5992  173847    0.096455               Amiche da morire   \n",
       "6040  202604    0.011798          The Vatican Exorcisms   \n",
       "6383   26985    0.371630       The 12 Dogs of Christmas   \n",
       "6552   13739    0.006440                Quatre Ã©toiles   \n",
       "6934   13713    0.071872                  Jean-Philippe   \n",
       "8874   46406    0.069903                Mission Kashmir   \n",
       "\n",
       "                                                   cast  \\\n",
       "92    Melanie Stone|Adam Johnson|Kevin Sorbo|Nicola ...   \n",
       "334                                   Cristiano Ronaldo   \n",
       "410   Robert LaSardo|Jordan James Smith|Sara Fabel|T...   \n",
       "445   Sarah Lind|Devon Sawa|Gina Holden|Peter MacNei...   \n",
       "486   Heather Graham|Jason Lewis|Rachael Carpani|Mas...   \n",
       "595   Sean McGrath|Denise Poirier|Anne Sorce|Tabor H...   \n",
       "616   Cameron Dallas|Hamilton Nash Grier|Olivia Stuc...   \n",
       "1289  J. Michael Trautmann|Dana Melanie|Daniel Fredr...   \n",
       "1293  Robson Nunes|BabÃº Santana|Alinne Moraes|CauÃ£...   \n",
       "1849  Nolan Gerard Funk|Jesse Moss|Britt Irvin|Tammi...   \n",
       "3329  Carlo Verdone|Claudia Gerini|Eva Riccobono|Vit...   \n",
       "3794  LeÃ¯la Bekhti|Benjamin Siksou|CÃ©cile Cassel|C...   \n",
       "3857  Bruce Greenwood|Eric Balfour|Michael Rooker|De...   \n",
       "3884  Houston Rhines|Andy Anderson|John Callahan|Gal...   \n",
       "4063  Tyler Perry|Blair Underwood|Lynn Whitfield|Bor...   \n",
       "4138  Larisa Oleynik|Shiri Appleby|Peter Coyote|Patr...   \n",
       "4829  Keke Palmer|Avan Jogia|Drake Bell|Burkely Duff...   \n",
       "4944  Brooke D'Orsay|Eric Mabius|Jody Thompson|Gina ...   \n",
       "5216  Tyler Perry|Chandra Currelley|Cheryl Pepsii Ri...   \n",
       "5695  Steve Berg|Kyle Davis|Erin Cahill|Jon Gries|De...   \n",
       "5920  Richard Coyle|Leonor Watling|GinÃ©s GarcÃ­a Mi...   \n",
       "5938     Saif Ali Khan|Anand Tiwari|Vir Das|Pooja Gupta   \n",
       "5992  Claudia Gerini|Cristiana Capotondi|Sabrina Imp...   \n",
       "6040                                         Joe Marino   \n",
       "6383  Jordan-Claire Green|Tom Kemp|Susan Wood|Adam H...   \n",
       "6552  JosÃ© Garcia|Isabelle CarrÃ©|RenÃ©e Le Calm|Fr...   \n",
       "6934  Fabrice Luchini|Johnny Hallyday|Jackie Berroye...   \n",
       "8874  Sanjay Dutt|Hrithik Roshan|Preity Zinta|Jackie...   \n",
       "\n",
       "                           director                              tagline  \\\n",
       "92                    A. Todd Smith                           No_Tagline   \n",
       "334                   Anthony Wonke   Astonishing. Intimate. Definitive.   \n",
       "410          Kenny Gage|Devon Downs                           No_Tagline   \n",
       "445                Steven R. Monroe                           No_Tagline   \n",
       "486                    Nancy Savoca                           No_Tagline   \n",
       "595                Michael Medaglia                           No_Tagline   \n",
       "616                Michael Goldfine                           No_Tagline   \n",
       "1289            Michael G. Bartlett                      No kids allowed   \n",
       "1293                     Mauro Lima         Original language PORTUGUESE   \n",
       "1849                  Robert Iscove                           No_Tagline   \n",
       "3329                  Carlo Verdone                           No_Tagline   \n",
       "3794                Audrey Estrougo                           No_Tagline   \n",
       "3857                    Stephen Kay                           No_Tagline   \n",
       "3884                  J.C. Calciano                           No_Tagline   \n",
       "4063                    Tyler Perry                           No_Tagline   \n",
       "4138                  Peter Gilbert                           No_Tagline   \n",
       "4829                 Bille Woodruff                           No_Tagline   \n",
       "4944                 Mark Griffiths                           No_Tagline   \n",
       "5216                    Tyler Perry                           No_Tagline   \n",
       "5695                   Devin McGinn                           No_Tagline   \n",
       "5920  Dominic Harari|Teresa Pelegri                           No_Tagline   \n",
       "5938      Krishna D.K.|Raj Nidimoru                           No_Tagline   \n",
       "5992                 Giorgia Farina                           No_Tagline   \n",
       "6040                     Joe Marino  The public were never meant to know   \n",
       "6383                  Kieth Merrill                           No_Tagline   \n",
       "6552              Christian Vincent                           No_Tagline   \n",
       "6934                   Laurent Tuel                           No_Tagline   \n",
       "8874             Vidhu Vinod Chopra                           No_Tagline   \n",
       "\n",
       "                                              keywords  runtime  \\\n",
       "92                     sword|magic|sorcery|necromancer        0   \n",
       "334                            biography|soccer player        0   \n",
       "410                                   tattoo|tattooing        0   \n",
       "445                                        No_Keywords        0   \n",
       "486                                     woman director        0   \n",
       "595                                        No_Keywords        0   \n",
       "616                                        No_Keywords        0   \n",
       "1289  kidnapping|brutality|violence|teenager|discovery        0   \n",
       "1293       brazilian|biography|music|drama|documentary        0   \n",
       "1849                                       No_Keywords        0   \n",
       "3329                                       No_Keywords        0   \n",
       "3794                                    woman director        0   \n",
       "3857                                       No_Keywords        0   \n",
       "3884                                        gay couple        0   \n",
       "4063                                       No_Keywords        0   \n",
       "4138                                       No_Keywords        0   \n",
       "4829                                           musical        0   \n",
       "4944                                       No_Keywords        0   \n",
       "5216                                       No_Keywords        0   \n",
       "5695                                       No_Keywords        0   \n",
       "5920                                    woman director        0   \n",
       "5938      hindi|zombies island|zombies|zombie survival        0   \n",
       "5992                                       No_Keywords        0   \n",
       "6040                                          exorcism        0   \n",
       "6383                                           holiday        0   \n",
       "6552                                       No_Keywords        0   \n",
       "6934                                       No_Keywords        0   \n",
       "8874                                       No_Keywords        0   \n",
       "\n",
       "                               genres  \\\n",
       "92           Fantasy|Action|Adventure   \n",
       "334                       Documentary   \n",
       "410                            Horror   \n",
       "445                            Horror   \n",
       "486                    TV Movie|Drama   \n",
       "595                            Horror   \n",
       "616                      Drama|Comedy   \n",
       "1289          Thriller|Horror|Mystery   \n",
       "1293          Documentary|Drama|Music   \n",
       "1849                      Drama|Music   \n",
       "3329                           Family   \n",
       "3794                    Music|Romance   \n",
       "3857                           Horror   \n",
       "3884                          Romance   \n",
       "4063                           Comedy   \n",
       "4138                      Drama|Music   \n",
       "4829            TV Movie|Comedy|Drama   \n",
       "4944          Comedy|Romance|TV Movie   \n",
       "5216                     Comedy|Music   \n",
       "5695  Thriller|Horror|Science Fiction   \n",
       "5920                   Romance|Comedy   \n",
       "5938                    Comedy|Horror   \n",
       "5992             Romance|Crime|Comedy   \n",
       "6040       Horror|Documentary|Mystery   \n",
       "6383                     Drama|Family   \n",
       "6552                           Comedy   \n",
       "6934                           Comedy   \n",
       "8874             Action|Drama|Foreign   \n",
       "\n",
       "                                   production_companies release_date  \\\n",
       "92    Arrowstorm Entertainment|Camera 40 Productions...   2015-12-19   \n",
       "334   On The Corner Films|We Came, We Saw, We Conque...   2015-11-09   \n",
       "410                                         No_ProdComp   2015-01-01   \n",
       "445                               WT Canada Productions   2015-10-09   \n",
       "486                 A+E Studios|Jane Startz Productions   2015-04-05   \n",
       "595                                         No_ProdComp   2015-01-01   \n",
       "616                                         No_ProdComp   2015-11-10   \n",
       "1289                                      Tiberius Film   2014-10-20   \n",
       "1293                                       Globo Filmes   2014-10-30   \n",
       "1849                                        No_ProdComp   2009-02-16   \n",
       "3329                                           Filmauro   2008-03-07   \n",
       "3794                                        No_ProdComp   2011-02-22   \n",
       "3857                             Access Motion Pictures   2011-06-10   \n",
       "3884                                        No_ProdComp   2011-06-23   \n",
       "4063                                        No_ProdComp   2002-01-25   \n",
       "4138                                        No_ProdComp   2002-09-06   \n",
       "4829                                        No_ProdComp   2012-05-28   \n",
       "4944  Annuit Coeptis Entertainment Inc.|Annuit Coept...   2012-07-21   \n",
       "5216                                        No_ProdComp   2003-06-25   \n",
       "5695                                        DeepStudios   2013-10-30   \n",
       "5920  Haut et Court|Parallel Film Productions|Fox In...   2013-12-18   \n",
       "5938                                 Eros International   2013-05-10   \n",
       "5992                                        No_ProdComp   2013-03-07   \n",
       "6040                                        No_ProdComp   2013-05-29   \n",
       "6383                                        No_ProdComp   2005-11-01   \n",
       "6552                                        No_ProdComp   2005-01-01   \n",
       "6934  FidÃ©litÃ© Productions|StudioCanal|TF1 Films P...   2006-04-05   \n",
       "8874                                        No_ProdComp   2000-10-27   \n",
       "\n",
       "      vote_count  vote_average  release_year        budget  revenue  \n",
       "92            11           5.4          2015  0.000000e+00      0.0  \n",
       "334           80           6.5          2015  0.000000e+00      0.0  \n",
       "410           15           5.6          2015  0.000000e+00      0.0  \n",
       "445           52           5.0          2015  0.000000e+00      0.0  \n",
       "486           11           5.4          2015  0.000000e+00      0.0  \n",
       "595           11           4.6          2015  0.000000e+00      0.0  \n",
       "616           20           6.6          2015  0.000000e+00      0.0  \n",
       "1289          16           3.4          2014  2.993546e+06      0.0  \n",
       "1293          14           6.0          2014  0.000000e+00      0.0  \n",
       "1849          13           5.2          2009  0.000000e+00      0.0  \n",
       "3329          35           5.3          2008  0.000000e+00      0.0  \n",
       "3794          17           5.2          2011  0.000000e+00      0.0  \n",
       "3857          13           5.2          2011  0.000000e+00      0.0  \n",
       "3884          12           4.6          2011  0.000000e+00      0.0  \n",
       "4063          49           5.9          2002  7.273568e+06      0.0  \n",
       "4138          14           7.5          2002  0.000000e+00      0.0  \n",
       "4829          24           5.7          2012  0.000000e+00      0.0  \n",
       "4944          11           4.7          2012  0.000000e+00      0.0  \n",
       "5216          12           6.9          2003  0.000000e+00      0.0  \n",
       "5695          27           4.3          2013  0.000000e+00      0.0  \n",
       "5920          12           5.6          2013  0.000000e+00      0.0  \n",
       "5938          16           5.3          2013  0.000000e+00      0.0  \n",
       "5992          30           5.5          2013  0.000000e+00      0.0  \n",
       "6040          10           4.7          2013  0.000000e+00      0.0  \n",
       "6383          11           4.7          2005  2.233127e+06      0.0  \n",
       "6552          15           5.9          2005  0.000000e+00      0.0  \n",
       "6934          26           5.6          2006  0.000000e+00      0.0  \n",
       "8874          10           5.7          2000  0.000000e+00      0.0  "
      ]
     },
     "execution_count": 20,
     "metadata": {},
     "output_type": "execute_result"
    }
   ],
   "source": [
    "\n",
    "df_unwanted=df.query('runtime ==0 ')\n",
    "df_unwanted"
   ]
  },
  {
   "cell_type": "markdown",
   "id": "0c1af730",
   "metadata": {},
   "source": [
    "we will delete the movies that have 0 runtime beacuase every movie must atleast more than 0 runtime"
   ]
  },
  {
   "cell_type": "markdown",
   "id": "1daae0e4",
   "metadata": {},
   "source": [
    "alot of movies with 0 budget or reveniue having 0 runtime "
   ]
  },
  {
   "cell_type": "code",
   "execution_count": 21,
   "id": "e8780932",
   "metadata": {},
   "outputs": [],
   "source": [
    "df.drop(df_unwanted.index,axis=0,inplace=True)"
   ]
  },
  {
   "cell_type": "code",
   "execution_count": 22,
   "id": "f7df35ed",
   "metadata": {},
   "outputs": [
    {
     "data": {
      "text/plain": [
       "90     543\n",
       "95     358\n",
       "100    330\n",
       "93     327\n",
       "97     305\n",
       "      ... \n",
       "366      1\n",
       "24       1\n",
       "389      1\n",
       "252      1\n",
       "216      1\n",
       "Name: runtime, Length: 242, dtype: int64"
      ]
     },
     "execution_count": 22,
     "metadata": {},
     "output_type": "execute_result"
    }
   ],
   "source": [
    "df.runtime.value_counts()"
   ]
  },
  {
   "cell_type": "markdown",
   "id": "c9609bbb",
   "metadata": {},
   "source": [
    "we will make new columns that differentiate between long movie and short movie<br>\n",
    "<ul>\n",
    "<li>long movie is more than 40 minutes\n",
    "<li> short movie is equal or less than 40 minutes"
   ]
  },
  {
   "cell_type": "code",
   "execution_count": 23,
   "id": "0930b836",
   "metadata": {},
   "outputs": [],
   "source": [
    "def typ(df):\n",
    "    df['type']=None\n",
    "    for i in df.index:\n",
    "        if df['runtime'][i]>40:\n",
    "            df['type'][i]='Long_Movie'\n",
    "        else:\n",
    "            df['type'][i]='Short_Movie'"
   ]
  },
  {
   "cell_type": "code",
   "execution_count": 24,
   "id": "abc6b1fa",
   "metadata": {},
   "outputs": [
    {
     "name": "stderr",
     "output_type": "stream",
     "text": [
      "C:\\Users\\Digital\\AppData\\Local\\Temp/ipykernel_11392/366691945.py:5: SettingWithCopyWarning: \n",
      "A value is trying to be set on a copy of a slice from a DataFrame\n",
      "\n",
      "See the caveats in the documentation: https://pandas.pydata.org/pandas-docs/stable/user_guide/indexing.html#returning-a-view-versus-a-copy\n",
      "  df['type'][i]='Long_Movie'\n",
      "C:\\Users\\Digital\\AppData\\Local\\Temp/ipykernel_11392/366691945.py:7: SettingWithCopyWarning: \n",
      "A value is trying to be set on a copy of a slice from a DataFrame\n",
      "\n",
      "See the caveats in the documentation: https://pandas.pydata.org/pandas-docs/stable/user_guide/indexing.html#returning-a-view-versus-a-copy\n",
      "  df['type'][i]='Short_Movie'\n"
     ]
    }
   ],
   "source": [
    "typ(df)"
   ]
  },
  {
   "cell_type": "code",
   "execution_count": 25,
   "id": "00ffa1be",
   "metadata": {},
   "outputs": [
    {
     "data": {
      "text/html": [
       "<div>\n",
       "<style scoped>\n",
       "    .dataframe tbody tr th:only-of-type {\n",
       "        vertical-align: middle;\n",
       "    }\n",
       "\n",
       "    .dataframe tbody tr th {\n",
       "        vertical-align: top;\n",
       "    }\n",
       "\n",
       "    .dataframe thead th {\n",
       "        text-align: right;\n",
       "    }\n",
       "</style>\n",
       "<table border=\"1\" class=\"dataframe\">\n",
       "  <thead>\n",
       "    <tr style=\"text-align: right;\">\n",
       "      <th></th>\n",
       "      <th>id</th>\n",
       "      <th>popularity</th>\n",
       "      <th>original_title</th>\n",
       "      <th>cast</th>\n",
       "      <th>director</th>\n",
       "      <th>tagline</th>\n",
       "      <th>keywords</th>\n",
       "      <th>runtime</th>\n",
       "      <th>genres</th>\n",
       "      <th>production_companies</th>\n",
       "      <th>release_date</th>\n",
       "      <th>vote_count</th>\n",
       "      <th>vote_average</th>\n",
       "      <th>release_year</th>\n",
       "      <th>budget</th>\n",
       "      <th>revenue</th>\n",
       "      <th>type</th>\n",
       "    </tr>\n",
       "  </thead>\n",
       "  <tbody>\n",
       "    <tr>\n",
       "      <th>100</th>\n",
       "      <td>326359</td>\n",
       "      <td>1.724712</td>\n",
       "      <td>Frozen Fever</td>\n",
       "      <td>Kristen Bell|Idina Menzel|Jonathan Groff|Josh ...</td>\n",
       "      <td>Chris Buck|Jennifer Lee</td>\n",
       "      <td>No_Tagline</td>\n",
       "      <td>sister sister relationship|birthday|song|birth...</td>\n",
       "      <td>8</td>\n",
       "      <td>Adventure|Animation|Family</td>\n",
       "      <td>Walt Disney Pictures|Walt Disney Animation Stu...</td>\n",
       "      <td>2015-03-09</td>\n",
       "      <td>475</td>\n",
       "      <td>7.0</td>\n",
       "      <td>2015</td>\n",
       "      <td>0.000000</td>\n",
       "      <td>0.0</td>\n",
       "      <td>Short_Movie</td>\n",
       "    </tr>\n",
       "    <tr>\n",
       "      <th>159</th>\n",
       "      <td>251516</td>\n",
       "      <td>0.953046</td>\n",
       "      <td>Kung Fury</td>\n",
       "      <td>David Sandberg|Jorma Taccone|Leopold Nilsson|A...</td>\n",
       "      <td>David Sandberg</td>\n",
       "      <td>It takes a cop from the future to fight an ene...</td>\n",
       "      <td>video game|martial arts|kung fu|hacker|nazis</td>\n",
       "      <td>31</td>\n",
       "      <td>Action|Comedy|Science Fiction|Fantasy</td>\n",
       "      <td>Laser Unicorns</td>\n",
       "      <td>2015-05-28</td>\n",
       "      <td>487</td>\n",
       "      <td>7.7</td>\n",
       "      <td>2015</td>\n",
       "      <td>579617.224968</td>\n",
       "      <td>0.0</td>\n",
       "      <td>Short_Movie</td>\n",
       "    </tr>\n",
       "    <tr>\n",
       "      <th>216</th>\n",
       "      <td>286192</td>\n",
       "      <td>0.640151</td>\n",
       "      <td>Lava</td>\n",
       "      <td>Napua Greig|Kuana Torres Kahele</td>\n",
       "      <td>James Ford Murphy</td>\n",
       "      <td>No_Tagline</td>\n",
       "      <td>pixar animated short|animation|pixar|short</td>\n",
       "      <td>7</td>\n",
       "      <td>Animation|Comedy|Family|Fantasy|Music</td>\n",
       "      <td>Pixar Animation Studios</td>\n",
       "      <td>2015-06-19</td>\n",
       "      <td>298</td>\n",
       "      <td>7.3</td>\n",
       "      <td>2015</td>\n",
       "      <td>0.000000</td>\n",
       "      <td>0.0</td>\n",
       "      <td>Short_Movie</td>\n",
       "    </tr>\n",
       "    <tr>\n",
       "      <th>279</th>\n",
       "      <td>355338</td>\n",
       "      <td>0.442835</td>\n",
       "      <td>Riley's First Date?</td>\n",
       "      <td>Amy Poehler|Phyllis Smith|Bill Hader|Lewis Bla...</td>\n",
       "      <td>Josh Cooley</td>\n",
       "      <td>No_Tagline</td>\n",
       "      <td>mother daughter relationship|rock music|girl|f...</td>\n",
       "      <td>5</td>\n",
       "      <td>Animation|Family</td>\n",
       "      <td>Walt Disney Pictures|Pixar Animation Studios</td>\n",
       "      <td>2015-11-03</td>\n",
       "      <td>137</td>\n",
       "      <td>7.3</td>\n",
       "      <td>2015</td>\n",
       "      <td>0.000000</td>\n",
       "      <td>0.0</td>\n",
       "      <td>Short_Movie</td>\n",
       "    </tr>\n",
       "    <tr>\n",
       "      <th>343</th>\n",
       "      <td>366142</td>\n",
       "      <td>0.344994</td>\n",
       "      <td>Minions: The Competition</td>\n",
       "      <td>Pierre Coffin|Chris Renaud</td>\n",
       "      <td>Kyle Balda|Julien Soret</td>\n",
       "      <td>No_Tagline</td>\n",
       "      <td>minions</td>\n",
       "      <td>4</td>\n",
       "      <td>Animation</td>\n",
       "      <td>Illumination Entertainment</td>\n",
       "      <td>2015-11-04</td>\n",
       "      <td>16</td>\n",
       "      <td>5.9</td>\n",
       "      <td>2015</td>\n",
       "      <td>0.000000</td>\n",
       "      <td>0.0</td>\n",
       "      <td>Short_Movie</td>\n",
       "    </tr>\n",
       "  </tbody>\n",
       "</table>\n",
       "</div>"
      ],
      "text/plain": [
       "         id  popularity            original_title  \\\n",
       "100  326359    1.724712              Frozen Fever   \n",
       "159  251516    0.953046                 Kung Fury   \n",
       "216  286192    0.640151                      Lava   \n",
       "279  355338    0.442835       Riley's First Date?   \n",
       "343  366142    0.344994  Minions: The Competition   \n",
       "\n",
       "                                                  cast  \\\n",
       "100  Kristen Bell|Idina Menzel|Jonathan Groff|Josh ...   \n",
       "159  David Sandberg|Jorma Taccone|Leopold Nilsson|A...   \n",
       "216                    Napua Greig|Kuana Torres Kahele   \n",
       "279  Amy Poehler|Phyllis Smith|Bill Hader|Lewis Bla...   \n",
       "343                         Pierre Coffin|Chris Renaud   \n",
       "\n",
       "                    director  \\\n",
       "100  Chris Buck|Jennifer Lee   \n",
       "159           David Sandberg   \n",
       "216        James Ford Murphy   \n",
       "279              Josh Cooley   \n",
       "343  Kyle Balda|Julien Soret   \n",
       "\n",
       "                                               tagline  \\\n",
       "100                                         No_Tagline   \n",
       "159  It takes a cop from the future to fight an ene...   \n",
       "216                                         No_Tagline   \n",
       "279                                         No_Tagline   \n",
       "343                                         No_Tagline   \n",
       "\n",
       "                                              keywords  runtime  \\\n",
       "100  sister sister relationship|birthday|song|birth...        8   \n",
       "159       video game|martial arts|kung fu|hacker|nazis       31   \n",
       "216         pixar animated short|animation|pixar|short        7   \n",
       "279  mother daughter relationship|rock music|girl|f...        5   \n",
       "343                                            minions        4   \n",
       "\n",
       "                                    genres  \\\n",
       "100             Adventure|Animation|Family   \n",
       "159  Action|Comedy|Science Fiction|Fantasy   \n",
       "216  Animation|Comedy|Family|Fantasy|Music   \n",
       "279                       Animation|Family   \n",
       "343                              Animation   \n",
       "\n",
       "                                  production_companies release_date  \\\n",
       "100  Walt Disney Pictures|Walt Disney Animation Stu...   2015-03-09   \n",
       "159                                     Laser Unicorns   2015-05-28   \n",
       "216                            Pixar Animation Studios   2015-06-19   \n",
       "279       Walt Disney Pictures|Pixar Animation Studios   2015-11-03   \n",
       "343                         Illumination Entertainment   2015-11-04   \n",
       "\n",
       "     vote_count  vote_average  release_year         budget  revenue  \\\n",
       "100         475           7.0          2015       0.000000      0.0   \n",
       "159         487           7.7          2015  579617.224968      0.0   \n",
       "216         298           7.3          2015       0.000000      0.0   \n",
       "279         137           7.3          2015       0.000000      0.0   \n",
       "343          16           5.9          2015       0.000000      0.0   \n",
       "\n",
       "            type  \n",
       "100  Short_Movie  \n",
       "159  Short_Movie  \n",
       "216  Short_Movie  \n",
       "279  Short_Movie  \n",
       "343  Short_Movie  "
      ]
     },
     "execution_count": 25,
     "metadata": {},
     "output_type": "execute_result"
    }
   ],
   "source": [
    "df.query('type==\"Short_Movie\"').head()"
   ]
  },
  {
   "cell_type": "markdown",
   "id": "bc759114",
   "metadata": {},
   "source": [
    "We will treat the zero values in budget and revenu columns by replacing the 0 with the median of no zero values in two ways:\n",
    "<ul>\n",
    "<li>In Long movies we will take the median of no zero values and replace it with zero values in long movies rows\n",
    "<li>In Short movies we will take the median of no zero values and replace it with zero values in short movies rows"
   ]
  },
  {
   "cell_type": "code",
   "execution_count": 26,
   "id": "ebb33d30",
   "metadata": {},
   "outputs": [],
   "source": [
    "df_long=df.query('type==\"Long_Movie\"')\n",
    "df_short=df.query('type==\"Short_Movie\"')"
   ]
  },
  {
   "cell_type": "code",
   "execution_count": 27,
   "id": "7eb1ee60",
   "metadata": {},
   "outputs": [],
   "source": [
    "df_bg_long=df_long.query('budget >0')\n",
    "df_rv_long=df_long.query('revenue >0')\n",
    "df_bg_short=df_short.query('budget >0')\n",
    "df_rv_short=df_short.query('revenue >0')"
   ]
  },
  {
   "cell_type": "code",
   "execution_count": 28,
   "id": "7630ab7c",
   "metadata": {},
   "outputs": [
    {
     "data": {
      "text/plain": [
       "(44028788.7291762, 23027276.2692864)"
      ]
     },
     "execution_count": 28,
     "metadata": {},
     "output_type": "execute_result"
    }
   ],
   "source": [
    "budget_median_long=df_bg_long.budget.median()\n",
    "revenue_median_long=df_rv_long.revenue.median()\n",
    "revenue_median_long,budget_median_long"
   ]
  },
  {
   "cell_type": "code",
   "execution_count": 29,
   "id": "ea174337",
   "metadata": {},
   "outputs": [
    {
     "data": {
      "text/plain": [
       "(7495700.7196811, 357794.0506290825)"
      ]
     },
     "execution_count": 29,
     "metadata": {},
     "output_type": "execute_result"
    }
   ],
   "source": [
    "budget_median_short=df_bg_short.budget.median()\n",
    "revenue_median_short=df_rv_short.revenue.median()\n",
    "revenue_median_short,budget_median_short"
   ]
  },
  {
   "cell_type": "code",
   "execution_count": 30,
   "id": "a3d1de6f",
   "metadata": {},
   "outputs": [
    {
     "name": "stderr",
     "output_type": "stream",
     "text": [
      "C:\\Users\\Digital\\AppData\\Local\\Temp/ipykernel_11392/1523612221.py:4: SettingWithCopyWarning: \n",
      "A value is trying to be set on a copy of a slice from a DataFrame\n",
      "\n",
      "See the caveats in the documentation: https://pandas.pydata.org/pandas-docs/stable/user_guide/indexing.html#returning-a-view-versus-a-copy\n",
      "  df['budget'][i]=budget_median_long\n",
      "C:\\Users\\Digital\\AppData\\Local\\Temp/ipykernel_11392/1523612221.py:7: SettingWithCopyWarning: \n",
      "A value is trying to be set on a copy of a slice from a DataFrame\n",
      "\n",
      "See the caveats in the documentation: https://pandas.pydata.org/pandas-docs/stable/user_guide/indexing.html#returning-a-view-versus-a-copy\n",
      "  df['revenue'][i]=revenue_median_long\n",
      "C:\\Users\\Digital\\AppData\\Local\\Temp/ipykernel_11392/1523612221.py:11: SettingWithCopyWarning: \n",
      "A value is trying to be set on a copy of a slice from a DataFrame\n",
      "\n",
      "See the caveats in the documentation: https://pandas.pydata.org/pandas-docs/stable/user_guide/indexing.html#returning-a-view-versus-a-copy\n",
      "  df['budget'][i]=budget_median_short\n",
      "C:\\Users\\Digital\\AppData\\Local\\Temp/ipykernel_11392/1523612221.py:14: SettingWithCopyWarning: \n",
      "A value is trying to be set on a copy of a slice from a DataFrame\n",
      "\n",
      "See the caveats in the documentation: https://pandas.pydata.org/pandas-docs/stable/user_guide/indexing.html#returning-a-view-versus-a-copy\n",
      "  df['revenue'][i]=revenue_median_short\n"
     ]
    }
   ],
   "source": [
    "for i in df.index:\n",
    "    if df['type'][i]=='Long_Movie':\n",
    "        if df['budget'][i] == 0:\n",
    "            df['budget'][i]=budget_median_long\n",
    "            \n",
    "        if df['revenue'][i] == 0:\n",
    "            df['revenue'][i]=revenue_median_long\n",
    "            \n",
    "    elif df['type'][i]=='Short_Movie':\n",
    "        if df['budget'][i] == 0:\n",
    "            df['budget'][i]=budget_median_short\n",
    "            \n",
    "        if df['revenue'][i] == 0:\n",
    "            df['revenue'][i]=revenue_median_short\n",
    "        "
   ]
  },
  {
   "cell_type": "code",
   "execution_count": 31,
   "id": "7ebd6400",
   "metadata": {},
   "outputs": [
    {
     "data": {
      "text/html": [
       "<div>\n",
       "<style scoped>\n",
       "    .dataframe tbody tr th:only-of-type {\n",
       "        vertical-align: middle;\n",
       "    }\n",
       "\n",
       "    .dataframe tbody tr th {\n",
       "        vertical-align: top;\n",
       "    }\n",
       "\n",
       "    .dataframe thead th {\n",
       "        text-align: right;\n",
       "    }\n",
       "</style>\n",
       "<table border=\"1\" class=\"dataframe\">\n",
       "  <thead>\n",
       "    <tr style=\"text-align: right;\">\n",
       "      <th></th>\n",
       "      <th>id</th>\n",
       "      <th>popularity</th>\n",
       "      <th>runtime</th>\n",
       "      <th>vote_count</th>\n",
       "      <th>vote_average</th>\n",
       "      <th>release_year</th>\n",
       "      <th>budget</th>\n",
       "      <th>revenue</th>\n",
       "    </tr>\n",
       "  </thead>\n",
       "  <tbody>\n",
       "    <tr>\n",
       "      <th>count</th>\n",
       "      <td>10704.000000</td>\n",
       "      <td>10704.000000</td>\n",
       "      <td>10704.000000</td>\n",
       "      <td>10704.000000</td>\n",
       "      <td>10704.000000</td>\n",
       "      <td>10704.000000</td>\n",
       "      <td>1.070400e+04</td>\n",
       "      <td>1.070400e+04</td>\n",
       "    </tr>\n",
       "    <tr>\n",
       "      <th>mean</th>\n",
       "      <td>64902.866592</td>\n",
       "      <td>0.653813</td>\n",
       "      <td>102.735893</td>\n",
       "      <td>220.322870</td>\n",
       "      <td>5.966022</td>\n",
       "      <td>2001.236173</td>\n",
       "      <td>2.941470e+07</td>\n",
       "      <td>7.563052e+07</td>\n",
       "    </tr>\n",
       "    <tr>\n",
       "      <th>std</th>\n",
       "      <td>91158.001799</td>\n",
       "      <td>1.005641</td>\n",
       "      <td>30.078104</td>\n",
       "      <td>579.455879</td>\n",
       "      <td>0.930158</td>\n",
       "      <td>12.825600</td>\n",
       "      <td>3.015316e+07</td>\n",
       "      <td>1.386468e+08</td>\n",
       "    </tr>\n",
       "    <tr>\n",
       "      <th>min</th>\n",
       "      <td>5.000000</td>\n",
       "      <td>0.000188</td>\n",
       "      <td>3.000000</td>\n",
       "      <td>10.000000</td>\n",
       "      <td>1.500000</td>\n",
       "      <td>1960.000000</td>\n",
       "      <td>9.210911e-01</td>\n",
       "      <td>2.370705e+00</td>\n",
       "    </tr>\n",
       "    <tr>\n",
       "      <th>25%</th>\n",
       "      <td>10538.750000</td>\n",
       "      <td>0.211545</td>\n",
       "      <td>90.000000</td>\n",
       "      <td>17.000000</td>\n",
       "      <td>5.400000</td>\n",
       "      <td>1995.000000</td>\n",
       "      <td>2.189312e+07</td>\n",
       "      <td>4.402879e+07</td>\n",
       "    </tr>\n",
       "    <tr>\n",
       "      <th>50%</th>\n",
       "      <td>20235.500000</td>\n",
       "      <td>0.388068</td>\n",
       "      <td>99.000000</td>\n",
       "      <td>39.000000</td>\n",
       "      <td>6.000000</td>\n",
       "      <td>2006.000000</td>\n",
       "      <td>2.302728e+07</td>\n",
       "      <td>4.402879e+07</td>\n",
       "    </tr>\n",
       "    <tr>\n",
       "      <th>75%</th>\n",
       "      <td>73612.500000</td>\n",
       "      <td>0.722425</td>\n",
       "      <td>112.000000</td>\n",
       "      <td>149.000000</td>\n",
       "      <td>6.600000</td>\n",
       "      <td>2011.000000</td>\n",
       "      <td>2.302728e+07</td>\n",
       "      <td>4.402879e+07</td>\n",
       "    </tr>\n",
       "    <tr>\n",
       "      <th>max</th>\n",
       "      <td>417859.000000</td>\n",
       "      <td>32.985763</td>\n",
       "      <td>900.000000</td>\n",
       "      <td>9767.000000</td>\n",
       "      <td>9.200000</td>\n",
       "      <td>2015.000000</td>\n",
       "      <td>4.250000e+08</td>\n",
       "      <td>2.827124e+09</td>\n",
       "    </tr>\n",
       "  </tbody>\n",
       "</table>\n",
       "</div>"
      ],
      "text/plain": [
       "                  id    popularity       runtime    vote_count  vote_average  \\\n",
       "count   10704.000000  10704.000000  10704.000000  10704.000000  10704.000000   \n",
       "mean    64902.866592      0.653813    102.735893    220.322870      5.966022   \n",
       "std     91158.001799      1.005641     30.078104    579.455879      0.930158   \n",
       "min         5.000000      0.000188      3.000000     10.000000      1.500000   \n",
       "25%     10538.750000      0.211545     90.000000     17.000000      5.400000   \n",
       "50%     20235.500000      0.388068     99.000000     39.000000      6.000000   \n",
       "75%     73612.500000      0.722425    112.000000    149.000000      6.600000   \n",
       "max    417859.000000     32.985763    900.000000   9767.000000      9.200000   \n",
       "\n",
       "       release_year        budget       revenue  \n",
       "count  10704.000000  1.070400e+04  1.070400e+04  \n",
       "mean    2001.236173  2.941470e+07  7.563052e+07  \n",
       "std       12.825600  3.015316e+07  1.386468e+08  \n",
       "min     1960.000000  9.210911e-01  2.370705e+00  \n",
       "25%     1995.000000  2.189312e+07  4.402879e+07  \n",
       "50%     2006.000000  2.302728e+07  4.402879e+07  \n",
       "75%     2011.000000  2.302728e+07  4.402879e+07  \n",
       "max     2015.000000  4.250000e+08  2.827124e+09  "
      ]
     },
     "execution_count": 31,
     "metadata": {},
     "output_type": "execute_result"
    }
   ],
   "source": [
    "df.describe()"
   ]
  },
  {
   "cell_type": "code",
   "execution_count": 32,
   "id": "ab76c5ae",
   "metadata": {},
   "outputs": [],
   "source": [
    "df['profit']=df.revenue-df.budget"
   ]
  },
  {
   "cell_type": "code",
   "execution_count": 33,
   "id": "9035030b",
   "metadata": {},
   "outputs": [
    {
     "data": {
      "text/html": [
       "<div>\n",
       "<style scoped>\n",
       "    .dataframe tbody tr th:only-of-type {\n",
       "        vertical-align: middle;\n",
       "    }\n",
       "\n",
       "    .dataframe tbody tr th {\n",
       "        vertical-align: top;\n",
       "    }\n",
       "\n",
       "    .dataframe thead th {\n",
       "        text-align: right;\n",
       "    }\n",
       "</style>\n",
       "<table border=\"1\" class=\"dataframe\">\n",
       "  <thead>\n",
       "    <tr style=\"text-align: right;\">\n",
       "      <th></th>\n",
       "      <th>id</th>\n",
       "      <th>popularity</th>\n",
       "      <th>runtime</th>\n",
       "      <th>vote_count</th>\n",
       "      <th>vote_average</th>\n",
       "      <th>release_year</th>\n",
       "      <th>budget</th>\n",
       "      <th>revenue</th>\n",
       "      <th>profit</th>\n",
       "    </tr>\n",
       "  </thead>\n",
       "  <tbody>\n",
       "    <tr>\n",
       "      <th>count</th>\n",
       "      <td>10704.000000</td>\n",
       "      <td>10704.000000</td>\n",
       "      <td>10704.000000</td>\n",
       "      <td>10704.000000</td>\n",
       "      <td>10704.000000</td>\n",
       "      <td>10704.000000</td>\n",
       "      <td>1.070400e+04</td>\n",
       "      <td>1.070400e+04</td>\n",
       "      <td>1.070400e+04</td>\n",
       "    </tr>\n",
       "    <tr>\n",
       "      <th>mean</th>\n",
       "      <td>64902.866592</td>\n",
       "      <td>0.653813</td>\n",
       "      <td>102.735893</td>\n",
       "      <td>220.322870</td>\n",
       "      <td>5.966022</td>\n",
       "      <td>2001.236173</td>\n",
       "      <td>2.941470e+07</td>\n",
       "      <td>7.563052e+07</td>\n",
       "      <td>4.621582e+07</td>\n",
       "    </tr>\n",
       "    <tr>\n",
       "      <th>std</th>\n",
       "      <td>91158.001799</td>\n",
       "      <td>1.005641</td>\n",
       "      <td>30.078104</td>\n",
       "      <td>579.455879</td>\n",
       "      <td>0.930158</td>\n",
       "      <td>12.825600</td>\n",
       "      <td>3.015316e+07</td>\n",
       "      <td>1.386468e+08</td>\n",
       "      <td>1.229254e+08</td>\n",
       "    </tr>\n",
       "    <tr>\n",
       "      <th>min</th>\n",
       "      <td>5.000000</td>\n",
       "      <td>0.000188</td>\n",
       "      <td>3.000000</td>\n",
       "      <td>10.000000</td>\n",
       "      <td>1.500000</td>\n",
       "      <td>1960.000000</td>\n",
       "      <td>9.210911e-01</td>\n",
       "      <td>2.370705e+00</td>\n",
       "      <td>-4.139124e+08</td>\n",
       "    </tr>\n",
       "    <tr>\n",
       "      <th>25%</th>\n",
       "      <td>10538.750000</td>\n",
       "      <td>0.211545</td>\n",
       "      <td>90.000000</td>\n",
       "      <td>17.000000</td>\n",
       "      <td>5.400000</td>\n",
       "      <td>1995.000000</td>\n",
       "      <td>2.189312e+07</td>\n",
       "      <td>4.402879e+07</td>\n",
       "      <td>1.252255e+07</td>\n",
       "    </tr>\n",
       "    <tr>\n",
       "      <th>50%</th>\n",
       "      <td>20235.500000</td>\n",
       "      <td>0.388068</td>\n",
       "      <td>99.000000</td>\n",
       "      <td>39.000000</td>\n",
       "      <td>6.000000</td>\n",
       "      <td>2006.000000</td>\n",
       "      <td>2.302728e+07</td>\n",
       "      <td>4.402879e+07</td>\n",
       "      <td>2.100151e+07</td>\n",
       "    </tr>\n",
       "    <tr>\n",
       "      <th>75%</th>\n",
       "      <td>73612.500000</td>\n",
       "      <td>0.722425</td>\n",
       "      <td>112.000000</td>\n",
       "      <td>149.000000</td>\n",
       "      <td>6.600000</td>\n",
       "      <td>2011.000000</td>\n",
       "      <td>2.302728e+07</td>\n",
       "      <td>4.402879e+07</td>\n",
       "      <td>3.404203e+07</td>\n",
       "    </tr>\n",
       "    <tr>\n",
       "      <th>max</th>\n",
       "      <td>417859.000000</td>\n",
       "      <td>32.985763</td>\n",
       "      <td>900.000000</td>\n",
       "      <td>9767.000000</td>\n",
       "      <td>9.200000</td>\n",
       "      <td>2015.000000</td>\n",
       "      <td>4.250000e+08</td>\n",
       "      <td>2.827124e+09</td>\n",
       "      <td>2.750137e+09</td>\n",
       "    </tr>\n",
       "  </tbody>\n",
       "</table>\n",
       "</div>"
      ],
      "text/plain": [
       "                  id    popularity       runtime    vote_count  vote_average  \\\n",
       "count   10704.000000  10704.000000  10704.000000  10704.000000  10704.000000   \n",
       "mean    64902.866592      0.653813    102.735893    220.322870      5.966022   \n",
       "std     91158.001799      1.005641     30.078104    579.455879      0.930158   \n",
       "min         5.000000      0.000188      3.000000     10.000000      1.500000   \n",
       "25%     10538.750000      0.211545     90.000000     17.000000      5.400000   \n",
       "50%     20235.500000      0.388068     99.000000     39.000000      6.000000   \n",
       "75%     73612.500000      0.722425    112.000000    149.000000      6.600000   \n",
       "max    417859.000000     32.985763    900.000000   9767.000000      9.200000   \n",
       "\n",
       "       release_year        budget       revenue        profit  \n",
       "count  10704.000000  1.070400e+04  1.070400e+04  1.070400e+04  \n",
       "mean    2001.236173  2.941470e+07  7.563052e+07  4.621582e+07  \n",
       "std       12.825600  3.015316e+07  1.386468e+08  1.229254e+08  \n",
       "min     1960.000000  9.210911e-01  2.370705e+00 -4.139124e+08  \n",
       "25%     1995.000000  2.189312e+07  4.402879e+07  1.252255e+07  \n",
       "50%     2006.000000  2.302728e+07  4.402879e+07  2.100151e+07  \n",
       "75%     2011.000000  2.302728e+07  4.402879e+07  3.404203e+07  \n",
       "max     2015.000000  4.250000e+08  2.827124e+09  2.750137e+09  "
      ]
     },
     "execution_count": 33,
     "metadata": {},
     "output_type": "execute_result"
    }
   ],
   "source": [
    "df.describe()"
   ]
  },
  {
   "cell_type": "markdown",
   "id": "cc99bebc",
   "metadata": {},
   "source": [
    "<a id='eda'></a>\n",
    "## Exploratory Data Analysis"
   ]
  },
  {
   "cell_type": "markdown",
   "id": "0e3358cb",
   "metadata": {},
   "source": [
    "### Research Question 1 - Which genres are most popular from year to year?"
   ]
  },
  {
   "cell_type": "code",
   "execution_count": 34,
   "id": "4d6c9652",
   "metadata": {},
   "outputs": [],
   "source": [
    "df_genres=df.loc[:,['popularity','genres','release_year']].copy()"
   ]
  },
  {
   "cell_type": "code",
   "execution_count": 35,
   "id": "6c0dbaec",
   "metadata": {},
   "outputs": [
    {
     "data": {
      "text/plain": [
       "2019"
      ]
     },
     "execution_count": 35,
     "metadata": {},
     "output_type": "execute_result"
    }
   ],
   "source": [
    "len(df_genres.genres.unique())"
   ]
  },
  {
   "cell_type": "code",
   "execution_count": 36,
   "id": "5e5e720f",
   "metadata": {},
   "outputs": [
    {
     "data": {
      "text/plain": [
       "8685"
      ]
     },
     "execution_count": 36,
     "metadata": {},
     "output_type": "execute_result"
    }
   ],
   "source": [
    "df_genres.genres.duplicated().sum()"
   ]
  },
  {
   "cell_type": "code",
   "execution_count": 37,
   "id": "c932429b",
   "metadata": {},
   "outputs": [
    {
     "data": {
      "text/plain": [
       "array([2015, 2014, 1977, 2009, 2010, 1999, 2001, 2008, 2011, 2002, 1994,\n",
       "       2012, 2003, 1997, 2013, 1985, 2005, 2006, 2004, 1972, 1980, 2007,\n",
       "       1979, 1984, 1983, 1995, 1992, 1981, 1996, 2000, 1982, 1998, 1989,\n",
       "       1991, 1988, 1987, 1968, 1974, 1975, 1962, 1964, 1971, 1990, 1961,\n",
       "       1960, 1976, 1993, 1967, 1963, 1986, 1973, 1970, 1965, 1969, 1978,\n",
       "       1966], dtype=int64)"
      ]
     },
     "execution_count": 37,
     "metadata": {},
     "output_type": "execute_result"
    }
   ],
   "source": [
    "df_genres.release_year.unique()"
   ]
  },
  {
   "cell_type": "code",
   "execution_count": 38,
   "id": "6fa5c990",
   "metadata": {},
   "outputs": [
    {
     "data": {
      "text/html": [
       "<div>\n",
       "<style scoped>\n",
       "    .dataframe tbody tr th:only-of-type {\n",
       "        vertical-align: middle;\n",
       "    }\n",
       "\n",
       "    .dataframe tbody tr th {\n",
       "        vertical-align: top;\n",
       "    }\n",
       "\n",
       "    .dataframe thead th {\n",
       "        text-align: right;\n",
       "    }\n",
       "</style>\n",
       "<table border=\"1\" class=\"dataframe\">\n",
       "  <thead>\n",
       "    <tr style=\"text-align: right;\">\n",
       "      <th></th>\n",
       "      <th></th>\n",
       "      <th>popularity</th>\n",
       "    </tr>\n",
       "    <tr>\n",
       "      <th>release_year</th>\n",
       "      <th>genres</th>\n",
       "      <th></th>\n",
       "    </tr>\n",
       "  </thead>\n",
       "  <tbody>\n",
       "    <tr>\n",
       "      <th rowspan=\"5\" valign=\"top\">1960</th>\n",
       "      <th>Action|Adventure|Drama|History|Western</th>\n",
       "      <td>0.310398</td>\n",
       "    </tr>\n",
       "    <tr>\n",
       "      <th>Action|Adventure|Western</th>\n",
       "      <td>1.872132</td>\n",
       "    </tr>\n",
       "    <tr>\n",
       "      <th>Action|Drama|Foreign|History|War</th>\n",
       "      <td>0.194948</td>\n",
       "    </tr>\n",
       "    <tr>\n",
       "      <th>Action|Drama|History</th>\n",
       "      <td>1.136943</td>\n",
       "    </tr>\n",
       "    <tr>\n",
       "      <th>Action|Drama|History|War</th>\n",
       "      <td>0.256779</td>\n",
       "    </tr>\n",
       "  </tbody>\n",
       "</table>\n",
       "</div>"
      ],
      "text/plain": [
       "                                                     popularity\n",
       "release_year genres                                            \n",
       "1960         Action|Adventure|Drama|History|Western    0.310398\n",
       "             Action|Adventure|Western                  1.872132\n",
       "             Action|Drama|Foreign|History|War          0.194948\n",
       "             Action|Drama|History                      1.136943\n",
       "             Action|Drama|History|War                  0.256779"
      ]
     },
     "execution_count": 38,
     "metadata": {},
     "output_type": "execute_result"
    }
   ],
   "source": [
    "# we group the dataset by year and genres to find the total popularity of every genres in every year\n",
    "df_grp=df_genres.groupby(['release_year','genres']).sum()\n",
    "df_grp.head()"
   ]
  },
  {
   "cell_type": "code",
   "execution_count": 39,
   "id": "7c013e32",
   "metadata": {},
   "outputs": [],
   "source": [
    "year=np.array(None)\n",
    "gen=np.array(None)\n",
    "pop=np.array(None)"
   ]
  },
  {
   "cell_type": "code",
   "execution_count": 40,
   "id": "2362a8ba",
   "metadata": {},
   "outputs": [],
   "source": [
    "# we will take every year and generes so we could access to them easily\n",
    "for i in df_grp.index:\n",
    "    year=np.append(year,i[0])\n",
    "    gen=np.append(gen,i[1])"
   ]
  },
  {
   "cell_type": "code",
   "execution_count": 41,
   "id": "48799881",
   "metadata": {},
   "outputs": [],
   "source": [
    "for i in df_grp.index:\n",
    "    pop=np.append(pop,df_grp['popularity'][i])"
   ]
  },
  {
   "cell_type": "code",
   "execution_count": 42,
   "id": "9ccb516d",
   "metadata": {},
   "outputs": [
    {
     "data": {
      "text/plain": [
       "array([[0.310398],\n",
       "       [1.872132],\n",
       "       [0.194948],\n",
       "       ...,\n",
       "       [0.561032],\n",
       "       [0.747541],\n",
       "       [9.1107  ]])"
      ]
     },
     "execution_count": 42,
     "metadata": {},
     "output_type": "execute_result"
    }
   ],
   "source": [
    "df_grp.values"
   ]
  },
  {
   "cell_type": "code",
   "execution_count": 43,
   "id": "22d72044",
   "metadata": {},
   "outputs": [
    {
     "data": {
      "text/html": [
       "<div>\n",
       "<style scoped>\n",
       "    .dataframe tbody tr th:only-of-type {\n",
       "        vertical-align: middle;\n",
       "    }\n",
       "\n",
       "    .dataframe tbody tr th {\n",
       "        vertical-align: top;\n",
       "    }\n",
       "\n",
       "    .dataframe thead th {\n",
       "        text-align: right;\n",
       "    }\n",
       "</style>\n",
       "<table border=\"1\" class=\"dataframe\">\n",
       "  <thead>\n",
       "    <tr style=\"text-align: right;\">\n",
       "      <th></th>\n",
       "      <th>release_year</th>\n",
       "      <th>genres</th>\n",
       "      <th>popularity</th>\n",
       "    </tr>\n",
       "  </thead>\n",
       "  <tbody>\n",
       "    <tr>\n",
       "      <th>1</th>\n",
       "      <td>1960</td>\n",
       "      <td>Action|Adventure|Drama|History|Western</td>\n",
       "      <td>0.310398</td>\n",
       "    </tr>\n",
       "    <tr>\n",
       "      <th>2</th>\n",
       "      <td>1960</td>\n",
       "      <td>Action|Adventure|Western</td>\n",
       "      <td>1.872132</td>\n",
       "    </tr>\n",
       "    <tr>\n",
       "      <th>3</th>\n",
       "      <td>1960</td>\n",
       "      <td>Action|Drama|Foreign|History|War</td>\n",
       "      <td>0.194948</td>\n",
       "    </tr>\n",
       "    <tr>\n",
       "      <th>4</th>\n",
       "      <td>1960</td>\n",
       "      <td>Action|Drama|History</td>\n",
       "      <td>1.136943</td>\n",
       "    </tr>\n",
       "    <tr>\n",
       "      <th>5</th>\n",
       "      <td>1960</td>\n",
       "      <td>Action|Drama|History|War</td>\n",
       "      <td>0.256779</td>\n",
       "    </tr>\n",
       "  </tbody>\n",
       "</table>\n",
       "</div>"
      ],
      "text/plain": [
       "  release_year                                  genres popularity\n",
       "1         1960  Action|Adventure|Drama|History|Western   0.310398\n",
       "2         1960                Action|Adventure|Western   1.872132\n",
       "3         1960        Action|Drama|Foreign|History|War   0.194948\n",
       "4         1960                    Action|Drama|History   1.136943\n",
       "5         1960                Action|Drama|History|War   0.256779"
      ]
     },
     "execution_count": 43,
     "metadata": {},
     "output_type": "execute_result"
    }
   ],
   "source": [
    "Data={'release_year':year,'genres':gen,'popularity':pop,}\n",
    "df_new=pd.DataFrame(Data)\n",
    "# beacuse the first row is null we will delete it from the dataset\n",
    "df_new=df_new.iloc[1:,:]\n",
    "df_new.head()"
   ]
  },
  {
   "cell_type": "code",
   "execution_count": 44,
   "id": "08ee6a08",
   "metadata": {},
   "outputs": [
    {
     "data": {
      "text/html": [
       "<div>\n",
       "<style scoped>\n",
       "    .dataframe tbody tr th:only-of-type {\n",
       "        vertical-align: middle;\n",
       "    }\n",
       "\n",
       "    .dataframe tbody tr th {\n",
       "        vertical-align: top;\n",
       "    }\n",
       "\n",
       "    .dataframe thead th {\n",
       "        text-align: right;\n",
       "    }\n",
       "</style>\n",
       "<table border=\"1\" class=\"dataframe\">\n",
       "  <thead>\n",
       "    <tr style=\"text-align: right;\">\n",
       "      <th></th>\n",
       "      <th>release_year</th>\n",
       "      <th>genres</th>\n",
       "      <th>popularity</th>\n",
       "    </tr>\n",
       "  </thead>\n",
       "  <tbody>\n",
       "    <tr>\n",
       "      <th>5778</th>\n",
       "      <td>2015</td>\n",
       "      <td>Action|Adventure|Science Fiction|Thriller</td>\n",
       "      <td>61.405699</td>\n",
       "    </tr>\n",
       "    <tr>\n",
       "      <th>5868</th>\n",
       "      <td>2015</td>\n",
       "      <td>Drama</td>\n",
       "      <td>35.477358</td>\n",
       "    </tr>\n",
       "    <tr>\n",
       "      <th>5831</th>\n",
       "      <td>2015</td>\n",
       "      <td>Comedy</td>\n",
       "      <td>26.503648</td>\n",
       "    </tr>\n",
       "    <tr>\n",
       "      <th>5790</th>\n",
       "      <td>2015</td>\n",
       "      <td>Action|Crime|Thriller</td>\n",
       "      <td>14.304167</td>\n",
       "    </tr>\n",
       "    <tr>\n",
       "      <th>5836</th>\n",
       "      <td>2015</td>\n",
       "      <td>Comedy|Drama</td>\n",
       "      <td>13.332803</td>\n",
       "    </tr>\n",
       "  </tbody>\n",
       "</table>\n",
       "</div>"
      ],
      "text/plain": [
       "     release_year                                     genres popularity\n",
       "5778         2015  Action|Adventure|Science Fiction|Thriller  61.405699\n",
       "5868         2015                                      Drama  35.477358\n",
       "5831         2015                                     Comedy  26.503648\n",
       "5790         2015                      Action|Crime|Thriller  14.304167\n",
       "5836         2015                               Comedy|Drama  13.332803"
      ]
     },
     "execution_count": 44,
     "metadata": {},
     "output_type": "execute_result"
    }
   ],
   "source": [
    "# to detemine the best generes we will organize it by year and popularity \n",
    "df_bestG=df_new.sort_values(by=['release_year','popularity'],ascending=False)\n",
    "df_bestG.head()"
   ]
  },
  {
   "cell_type": "code",
   "execution_count": 45,
   "id": "6b0f4fbe",
   "metadata": {},
   "outputs": [],
   "source": [
    "Past_year=0\n",
    "year=np.array(None)\n",
    "gen=np.array(None)\n",
    "pop=np.array(None)"
   ]
  },
  {
   "cell_type": "code",
   "execution_count": 46,
   "id": "26fde8e8",
   "metadata": {},
   "outputs": [],
   "source": [
    "# we will take the first value of every year beacause it is the highest popularity\n",
    "for ind in df_bestG.index:\n",
    "    if df_bestG['release_year'][ind] !=Past_year:\n",
    "        year=np.append(year,df_bestG['release_year'][ind])\n",
    "        gen=np.append(gen,df_bestG['genres'][ind])\n",
    "        pop=np.append(pop,df_bestG['popularity'][ind])\n",
    "        Past_year=df_bestG['release_year'][ind]   "
   ]
  },
  {
   "cell_type": "code",
   "execution_count": 47,
   "id": "5642cfdd",
   "metadata": {},
   "outputs": [
    {
     "data": {
      "text/html": [
       "<div>\n",
       "<style scoped>\n",
       "    .dataframe tbody tr th:only-of-type {\n",
       "        vertical-align: middle;\n",
       "    }\n",
       "\n",
       "    .dataframe tbody tr th {\n",
       "        vertical-align: top;\n",
       "    }\n",
       "\n",
       "    .dataframe thead th {\n",
       "        text-align: right;\n",
       "    }\n",
       "</style>\n",
       "<table border=\"1\" class=\"dataframe\">\n",
       "  <thead>\n",
       "    <tr style=\"text-align: right;\">\n",
       "      <th></th>\n",
       "      <th>release_year</th>\n",
       "      <th>genres</th>\n",
       "      <th>popularity</th>\n",
       "    </tr>\n",
       "  </thead>\n",
       "  <tbody>\n",
       "    <tr>\n",
       "      <th>1</th>\n",
       "      <td>2015</td>\n",
       "      <td>Action|Adventure|Science Fiction|Thriller</td>\n",
       "      <td>61.405699</td>\n",
       "    </tr>\n",
       "    <tr>\n",
       "      <th>2</th>\n",
       "      <td>2014</td>\n",
       "      <td>Drama</td>\n",
       "      <td>45.126157</td>\n",
       "    </tr>\n",
       "    <tr>\n",
       "      <th>3</th>\n",
       "      <td>2013</td>\n",
       "      <td>Comedy</td>\n",
       "      <td>26.382453</td>\n",
       "    </tr>\n",
       "    <tr>\n",
       "      <th>4</th>\n",
       "      <td>2012</td>\n",
       "      <td>Drama</td>\n",
       "      <td>21.74544</td>\n",
       "    </tr>\n",
       "    <tr>\n",
       "      <th>5</th>\n",
       "      <td>2011</td>\n",
       "      <td>Comedy</td>\n",
       "      <td>24.751245</td>\n",
       "    </tr>\n",
       "  </tbody>\n",
       "</table>\n",
       "</div>"
      ],
      "text/plain": [
       "  release_year                                     genres popularity\n",
       "1         2015  Action|Adventure|Science Fiction|Thriller  61.405699\n",
       "2         2014                                      Drama  45.126157\n",
       "3         2013                                     Comedy  26.382453\n",
       "4         2012                                      Drama   21.74544\n",
       "5         2011                                     Comedy  24.751245"
      ]
     },
     "execution_count": 47,
     "metadata": {},
     "output_type": "execute_result"
    }
   ],
   "source": [
    "# this new Data Frame with highest popularity of genre per year\n",
    "Data={'release_year':year,'genres':gen,'popularity':pop}\n",
    "df_gen=pd.DataFrame(Data)\n",
    "df_gen=df_gen.iloc[1:,:]\n",
    "df_gen.head()"
   ]
  },
  {
   "cell_type": "code",
   "execution_count": 48,
   "id": "5a2ffb9a",
   "metadata": {},
   "outputs": [
    {
     "data": {
      "image/png": "[encoded data removed]",
      "text/plain": [
       "<Figure size 576x576 with 1 Axes>"
      ]
     },
     "metadata": {
      "needs_background": "light"
     },
     "output_type": "display_data"
    }
   ],
   "source": [
    "plt.figure(figsize=(8,8))\n",
    "plt.bar(df_gen['release_year'],df_gen['genres'])\n",
    "plt.xlabel('Year')\n",
    "plt.ylabel('Genres')\n",
    "plt.title('Most Popular genres per year');"
   ]
  },
  {
   "cell_type": "markdown",
   "id": "302b2de8",
   "metadata": {},
   "source": [
    "### Research Question 2 - What are the difference between long Movie and Short Movie?"
   ]
  },
  {
   "cell_type": "code",
   "execution_count": 49,
   "id": "f4bb99fa",
   "metadata": {},
   "outputs": [
    {
     "data": {
      "text/html": [
       "<div>\n",
       "<style scoped>\n",
       "    .dataframe tbody tr th:only-of-type {\n",
       "        vertical-align: middle;\n",
       "    }\n",
       "\n",
       "    .dataframe tbody tr th {\n",
       "        vertical-align: top;\n",
       "    }\n",
       "\n",
       "    .dataframe thead th {\n",
       "        text-align: right;\n",
       "    }\n",
       "</style>\n",
       "<table border=\"1\" class=\"dataframe\">\n",
       "  <thead>\n",
       "    <tr style=\"text-align: right;\">\n",
       "      <th></th>\n",
       "      <th>id</th>\n",
       "      <th>popularity</th>\n",
       "      <th>original_title</th>\n",
       "      <th>cast</th>\n",
       "      <th>director</th>\n",
       "      <th>tagline</th>\n",
       "      <th>keywords</th>\n",
       "      <th>runtime</th>\n",
       "      <th>genres</th>\n",
       "      <th>production_companies</th>\n",
       "      <th>release_date</th>\n",
       "      <th>vote_count</th>\n",
       "      <th>vote_average</th>\n",
       "      <th>release_year</th>\n",
       "      <th>budget</th>\n",
       "      <th>revenue</th>\n",
       "      <th>type</th>\n",
       "      <th>profit</th>\n",
       "    </tr>\n",
       "  </thead>\n",
       "  <tbody>\n",
       "    <tr>\n",
       "      <th>0</th>\n",
       "      <td>135397</td>\n",
       "      <td>32.985763</td>\n",
       "      <td>Jurassic World</td>\n",
       "      <td>Chris Pratt|Bryce Dallas Howard|Irrfan Khan|Vi...</td>\n",
       "      <td>Colin Trevorrow</td>\n",
       "      <td>The park is open.</td>\n",
       "      <td>monster|dna|tyrannosaurus rex|velociraptor|island</td>\n",
       "      <td>124</td>\n",
       "      <td>Action|Adventure|Science Fiction|Thriller</td>\n",
       "      <td>Universal Studios|Amblin Entertainment|Legenda...</td>\n",
       "      <td>2015-06-09</td>\n",
       "      <td>5562</td>\n",
       "      <td>6.5</td>\n",
       "      <td>2015</td>\n",
       "      <td>1.379999e+08</td>\n",
       "      <td>1.392446e+09</td>\n",
       "      <td>Long_Movie</td>\n",
       "      <td>1.254446e+09</td>\n",
       "    </tr>\n",
       "    <tr>\n",
       "      <th>1</th>\n",
       "      <td>76341</td>\n",
       "      <td>28.419936</td>\n",
       "      <td>Mad Max: Fury Road</td>\n",
       "      <td>Tom Hardy|Charlize Theron|Hugh Keays-Byrne|Nic...</td>\n",
       "      <td>George Miller</td>\n",
       "      <td>What a Lovely Day.</td>\n",
       "      <td>future|chase|post-apocalyptic|dystopia|australia</td>\n",
       "      <td>120</td>\n",
       "      <td>Action|Adventure|Science Fiction|Thriller</td>\n",
       "      <td>Village Roadshow Pictures|Kennedy Miller Produ...</td>\n",
       "      <td>2015-05-13</td>\n",
       "      <td>6185</td>\n",
       "      <td>7.1</td>\n",
       "      <td>2015</td>\n",
       "      <td>1.379999e+08</td>\n",
       "      <td>3.481613e+08</td>\n",
       "      <td>Long_Movie</td>\n",
       "      <td>2.101614e+08</td>\n",
       "    </tr>\n",
       "  </tbody>\n",
       "</table>\n",
       "</div>"
      ],
      "text/plain": [
       "       id  popularity      original_title  \\\n",
       "0  135397   32.985763      Jurassic World   \n",
       "1   76341   28.419936  Mad Max: Fury Road   \n",
       "\n",
       "                                                cast         director  \\\n",
       "0  Chris Pratt|Bryce Dallas Howard|Irrfan Khan|Vi...  Colin Trevorrow   \n",
       "1  Tom Hardy|Charlize Theron|Hugh Keays-Byrne|Nic...    George Miller   \n",
       "\n",
       "              tagline                                           keywords  \\\n",
       "0   The park is open.  monster|dna|tyrannosaurus rex|velociraptor|island   \n",
       "1  What a Lovely Day.   future|chase|post-apocalyptic|dystopia|australia   \n",
       "\n",
       "   runtime                                     genres  \\\n",
       "0      124  Action|Adventure|Science Fiction|Thriller   \n",
       "1      120  Action|Adventure|Science Fiction|Thriller   \n",
       "\n",
       "                                production_companies release_date  vote_count  \\\n",
       "0  Universal Studios|Amblin Entertainment|Legenda...   2015-06-09        5562   \n",
       "1  Village Roadshow Pictures|Kennedy Miller Produ...   2015-05-13        6185   \n",
       "\n",
       "   vote_average  release_year        budget       revenue        type  \\\n",
       "0           6.5          2015  1.379999e+08  1.392446e+09  Long_Movie   \n",
       "1           7.1          2015  1.379999e+08  3.481613e+08  Long_Movie   \n",
       "\n",
       "         profit  \n",
       "0  1.254446e+09  \n",
       "1  2.101614e+08  "
      ]
     },
     "execution_count": 49,
     "metadata": {},
     "output_type": "execute_result"
    }
   ],
   "source": [
    "df.head(2)"
   ]
  },
  {
   "cell_type": "code",
   "execution_count": 50,
   "id": "fcebbb3a",
   "metadata": {},
   "outputs": [],
   "source": [
    "df_long=df.query('type== \"Long_Movie\"')\n",
    "df_short=df.query('type== \"Short_Movie\"')"
   ]
  },
  {
   "cell_type": "code",
   "execution_count": 51,
   "id": "9030aec4",
   "metadata": {},
   "outputs": [
    {
     "data": {
      "text/html": [
       "<div>\n",
       "<style scoped>\n",
       "    .dataframe tbody tr th:only-of-type {\n",
       "        vertical-align: middle;\n",
       "    }\n",
       "\n",
       "    .dataframe tbody tr th {\n",
       "        vertical-align: top;\n",
       "    }\n",
       "\n",
       "    .dataframe thead th {\n",
       "        text-align: right;\n",
       "    }\n",
       "</style>\n",
       "<table border=\"1\" class=\"dataframe\">\n",
       "  <thead>\n",
       "    <tr style=\"text-align: right;\">\n",
       "      <th></th>\n",
       "      <th>id</th>\n",
       "      <th>popularity</th>\n",
       "      <th>original_title</th>\n",
       "      <th>cast</th>\n",
       "      <th>director</th>\n",
       "      <th>tagline</th>\n",
       "      <th>keywords</th>\n",
       "      <th>runtime</th>\n",
       "      <th>genres</th>\n",
       "      <th>production_companies</th>\n",
       "      <th>release_date</th>\n",
       "      <th>vote_count</th>\n",
       "      <th>vote_average</th>\n",
       "      <th>release_year</th>\n",
       "      <th>budget</th>\n",
       "      <th>revenue</th>\n",
       "      <th>type</th>\n",
       "      <th>profit</th>\n",
       "    </tr>\n",
       "  </thead>\n",
       "  <tbody>\n",
       "    <tr>\n",
       "      <th>100</th>\n",
       "      <td>326359</td>\n",
       "      <td>1.724712</td>\n",
       "      <td>Frozen Fever</td>\n",
       "      <td>Kristen Bell|Idina Menzel|Jonathan Groff|Josh ...</td>\n",
       "      <td>Chris Buck|Jennifer Lee</td>\n",
       "      <td>No_Tagline</td>\n",
       "      <td>sister sister relationship|birthday|song|birth...</td>\n",
       "      <td>8</td>\n",
       "      <td>Adventure|Animation|Family</td>\n",
       "      <td>Walt Disney Pictures|Walt Disney Animation Stu...</td>\n",
       "      <td>2015-03-09</td>\n",
       "      <td>475</td>\n",
       "      <td>7.0</td>\n",
       "      <td>2015</td>\n",
       "      <td>357794.050629</td>\n",
       "      <td>7.495701e+06</td>\n",
       "      <td>Short_Movie</td>\n",
       "      <td>7.137907e+06</td>\n",
       "    </tr>\n",
       "    <tr>\n",
       "      <th>159</th>\n",
       "      <td>251516</td>\n",
       "      <td>0.953046</td>\n",
       "      <td>Kung Fury</td>\n",
       "      <td>David Sandberg|Jorma Taccone|Leopold Nilsson|A...</td>\n",
       "      <td>David Sandberg</td>\n",
       "      <td>It takes a cop from the future to fight an ene...</td>\n",
       "      <td>video game|martial arts|kung fu|hacker|nazis</td>\n",
       "      <td>31</td>\n",
       "      <td>Action|Comedy|Science Fiction|Fantasy</td>\n",
       "      <td>Laser Unicorns</td>\n",
       "      <td>2015-05-28</td>\n",
       "      <td>487</td>\n",
       "      <td>7.7</td>\n",
       "      <td>2015</td>\n",
       "      <td>579617.224968</td>\n",
       "      <td>7.495701e+06</td>\n",
       "      <td>Short_Movie</td>\n",
       "      <td>6.916083e+06</td>\n",
       "    </tr>\n",
       "    <tr>\n",
       "      <th>216</th>\n",
       "      <td>286192</td>\n",
       "      <td>0.640151</td>\n",
       "      <td>Lava</td>\n",
       "      <td>Napua Greig|Kuana Torres Kahele</td>\n",
       "      <td>James Ford Murphy</td>\n",
       "      <td>No_Tagline</td>\n",
       "      <td>pixar animated short|animation|pixar|short</td>\n",
       "      <td>7</td>\n",
       "      <td>Animation|Comedy|Family|Fantasy|Music</td>\n",
       "      <td>Pixar Animation Studios</td>\n",
       "      <td>2015-06-19</td>\n",
       "      <td>298</td>\n",
       "      <td>7.3</td>\n",
       "      <td>2015</td>\n",
       "      <td>357794.050629</td>\n",
       "      <td>7.495701e+06</td>\n",
       "      <td>Short_Movie</td>\n",
       "      <td>7.137907e+06</td>\n",
       "    </tr>\n",
       "    <tr>\n",
       "      <th>279</th>\n",
       "      <td>355338</td>\n",
       "      <td>0.442835</td>\n",
       "      <td>Riley's First Date?</td>\n",
       "      <td>Amy Poehler|Phyllis Smith|Bill Hader|Lewis Bla...</td>\n",
       "      <td>Josh Cooley</td>\n",
       "      <td>No_Tagline</td>\n",
       "      <td>mother daughter relationship|rock music|girl|f...</td>\n",
       "      <td>5</td>\n",
       "      <td>Animation|Family</td>\n",
       "      <td>Walt Disney Pictures|Pixar Animation Studios</td>\n",
       "      <td>2015-11-03</td>\n",
       "      <td>137</td>\n",
       "      <td>7.3</td>\n",
       "      <td>2015</td>\n",
       "      <td>357794.050629</td>\n",
       "      <td>7.495701e+06</td>\n",
       "      <td>Short_Movie</td>\n",
       "      <td>7.137907e+06</td>\n",
       "    </tr>\n",
       "    <tr>\n",
       "      <th>343</th>\n",
       "      <td>366142</td>\n",
       "      <td>0.344994</td>\n",
       "      <td>Minions: The Competition</td>\n",
       "      <td>Pierre Coffin|Chris Renaud</td>\n",
       "      <td>Kyle Balda|Julien Soret</td>\n",
       "      <td>No_Tagline</td>\n",
       "      <td>minions</td>\n",
       "      <td>4</td>\n",
       "      <td>Animation</td>\n",
       "      <td>Illumination Entertainment</td>\n",
       "      <td>2015-11-04</td>\n",
       "      <td>16</td>\n",
       "      <td>5.9</td>\n",
       "      <td>2015</td>\n",
       "      <td>357794.050629</td>\n",
       "      <td>7.495701e+06</td>\n",
       "      <td>Short_Movie</td>\n",
       "      <td>7.137907e+06</td>\n",
       "    </tr>\n",
       "  </tbody>\n",
       "</table>\n",
       "</div>"
      ],
      "text/plain": [
       "         id  popularity            original_title  \\\n",
       "100  326359    1.724712              Frozen Fever   \n",
       "159  251516    0.953046                 Kung Fury   \n",
       "216  286192    0.640151                      Lava   \n",
       "279  355338    0.442835       Riley's First Date?   \n",
       "343  366142    0.344994  Minions: The Competition   \n",
       "\n",
       "                                                  cast  \\\n",
       "100  Kristen Bell|Idina Menzel|Jonathan Groff|Josh ...   \n",
       "159  David Sandberg|Jorma Taccone|Leopold Nilsson|A...   \n",
       "216                    Napua Greig|Kuana Torres Kahele   \n",
       "279  Amy Poehler|Phyllis Smith|Bill Hader|Lewis Bla...   \n",
       "343                         Pierre Coffin|Chris Renaud   \n",
       "\n",
       "                    director  \\\n",
       "100  Chris Buck|Jennifer Lee   \n",
       "159           David Sandberg   \n",
       "216        James Ford Murphy   \n",
       "279              Josh Cooley   \n",
       "343  Kyle Balda|Julien Soret   \n",
       "\n",
       "                                               tagline  \\\n",
       "100                                         No_Tagline   \n",
       "159  It takes a cop from the future to fight an ene...   \n",
       "216                                         No_Tagline   \n",
       "279                                         No_Tagline   \n",
       "343                                         No_Tagline   \n",
       "\n",
       "                                              keywords  runtime  \\\n",
       "100  sister sister relationship|birthday|song|birth...        8   \n",
       "159       video game|martial arts|kung fu|hacker|nazis       31   \n",
       "216         pixar animated short|animation|pixar|short        7   \n",
       "279  mother daughter relationship|rock music|girl|f...        5   \n",
       "343                                            minions        4   \n",
       "\n",
       "                                    genres  \\\n",
       "100             Adventure|Animation|Family   \n",
       "159  Action|Comedy|Science Fiction|Fantasy   \n",
       "216  Animation|Comedy|Family|Fantasy|Music   \n",
       "279                       Animation|Family   \n",
       "343                              Animation   \n",
       "\n",
       "                                  production_companies release_date  \\\n",
       "100  Walt Disney Pictures|Walt Disney Animation Stu...   2015-03-09   \n",
       "159                                     Laser Unicorns   2015-05-28   \n",
       "216                            Pixar Animation Studios   2015-06-19   \n",
       "279       Walt Disney Pictures|Pixar Animation Studios   2015-11-03   \n",
       "343                         Illumination Entertainment   2015-11-04   \n",
       "\n",
       "     vote_count  vote_average  release_year         budget       revenue  \\\n",
       "100         475           7.0          2015  357794.050629  7.495701e+06   \n",
       "159         487           7.7          2015  579617.224968  7.495701e+06   \n",
       "216         298           7.3          2015  357794.050629  7.495701e+06   \n",
       "279         137           7.3          2015  357794.050629  7.495701e+06   \n",
       "343          16           5.9          2015  357794.050629  7.495701e+06   \n",
       "\n",
       "            type        profit  \n",
       "100  Short_Movie  7.137907e+06  \n",
       "159  Short_Movie  6.916083e+06  \n",
       "216  Short_Movie  7.137907e+06  \n",
       "279  Short_Movie  7.137907e+06  \n",
       "343  Short_Movie  7.137907e+06  "
      ]
     },
     "execution_count": 51,
     "metadata": {},
     "output_type": "execute_result"
    }
   ],
   "source": [
    "df_short.head()"
   ]
  },
  {
   "cell_type": "code",
   "execution_count": 52,
   "id": "287ad75f",
   "metadata": {},
   "outputs": [
    {
     "data": {
      "text/plain": [
       "Text(0.5, 1.0, 'The Profit of Long Movies Per Year')"
      ]
     },
     "execution_count": 52,
     "metadata": {},
     "output_type": "execute_result"
    },
    {
     "data": {
      "image/png": "[encoded data removed]",
      "text/plain": [
       "<Figure size 432x432 with 1 Axes>"
      ]
     },
     "metadata": {
      "needs_background": "light"
     },
     "output_type": "display_data"
    }
   ],
   "source": [
    "plt.figure(figsize=(6,6))\n",
    "plt.scatter(df_long['release_year'],df_long['profit'])\n",
    "plt.xlabel('Years')\n",
    "plt.ylabel('Profit')\n",
    "plt.title('The Profit of Long Movies Per Year')"
   ]
  },
  {
   "cell_type": "markdown",
   "id": "d21eeaec",
   "metadata": {},
   "source": [
    "the profit in long movie is increasing from 1960 to 2015"
   ]
  },
  {
   "cell_type": "code",
   "execution_count": 53,
   "id": "6b1852a7",
   "metadata": {},
   "outputs": [
    {
     "data": {
      "text/plain": [
       "Text(0.5, 1.0, 'The Profit of short Movies Per Year')"
      ]
     },
     "execution_count": 53,
     "metadata": {},
     "output_type": "execute_result"
    },
    {
     "data": {
      "image/png": "[encoded data removed]",
      "text/plain": [
       "<Figure size 432x432 with 1 Axes>"
      ]
     },
     "metadata": {
      "needs_background": "light"
     },
     "output_type": "display_data"
    }
   ],
   "source": [
    "plt.figure(figsize=(6,6))\n",
    "plt.scatter(df_short['release_year'],df_short['profit'])\n",
    "plt.xlabel('Years')\n",
    "plt.ylabel('Profit')\n",
    "plt.title('The Profit of short Movies Per Year')"
   ]
  },
  {
   "cell_type": "markdown",
   "id": "00b122a5",
   "metadata": {},
   "source": [
    "there is no increasing of profit in short movies "
   ]
  },
  {
   "cell_type": "code",
   "execution_count": 54,
   "id": "28417728",
   "metadata": {},
   "outputs": [
    {
     "data": {
      "text/plain": [
       "(98.29970104633782, 1.7002989536621822)"
      ]
     },
     "execution_count": 54,
     "metadata": {},
     "output_type": "execute_result"
    }
   ],
   "source": [
    "proportion_long=len(df_long)/len(df)*100\n",
    "proportion_short=len(df_short)/len(df)*100\n",
    "proportion_long,proportion_short"
   ]
  },
  {
   "cell_type": "code",
   "execution_count": 55,
   "id": "986abded",
   "metadata": {},
   "outputs": [
    {
     "data": {
      "text/plain": [
       "Text(0.5, 1.0, 'proportion of Long Movie and short Movie')"
      ]
     },
     "execution_count": 55,
     "metadata": {},
     "output_type": "execute_result"
    },
    {
     "data": {
      "image/png": "[encoded data removed]",
      "text/plain": [
       "<Figure size 432x288 with 1 Axes>"
      ]
     },
     "metadata": {},
     "output_type": "display_data"
    }
   ],
   "source": [
    "labels=['long Movies','Short Movies']\n",
    "colors=['blue','green']\n",
    "plt.pie([proportion_long,proportion_short],colors=colors,labels=labels,explode=(0.1,0.1),autopct='%1.2f%%',shadow=True);\n",
    "plt.title('proportion of Long Movie and short Movie')"
   ]
  },
  {
   "cell_type": "markdown",
   "id": "0808c9aa",
   "metadata": {},
   "source": [
    "the numbers of Long movies has most majority of TMDb dataset"
   ]
  },
  {
   "cell_type": "markdown",
   "id": "48479447",
   "metadata": {},
   "source": [
    "### Research Question 3 - What kinds of properties are associated with movies that have high revenues?\n"
   ]
  },
  {
   "cell_type": "code",
   "execution_count": 56,
   "id": "59cc63f9",
   "metadata": {},
   "outputs": [
    {
     "data": {
      "text/html": [
       "<div>\n",
       "<style scoped>\n",
       "    .dataframe tbody tr th:only-of-type {\n",
       "        vertical-align: middle;\n",
       "    }\n",
       "\n",
       "    .dataframe tbody tr th {\n",
       "        vertical-align: top;\n",
       "    }\n",
       "\n",
       "    .dataframe thead th {\n",
       "        text-align: right;\n",
       "    }\n",
       "</style>\n",
       "<table border=\"1\" class=\"dataframe\">\n",
       "  <thead>\n",
       "    <tr style=\"text-align: right;\">\n",
       "      <th></th>\n",
       "      <th>id</th>\n",
       "      <th>popularity</th>\n",
       "      <th>original_title</th>\n",
       "      <th>cast</th>\n",
       "      <th>director</th>\n",
       "      <th>tagline</th>\n",
       "      <th>keywords</th>\n",
       "      <th>runtime</th>\n",
       "      <th>genres</th>\n",
       "      <th>production_companies</th>\n",
       "      <th>release_date</th>\n",
       "      <th>vote_count</th>\n",
       "      <th>vote_average</th>\n",
       "      <th>release_year</th>\n",
       "      <th>budget</th>\n",
       "      <th>revenue</th>\n",
       "      <th>type</th>\n",
       "      <th>profit</th>\n",
       "    </tr>\n",
       "  </thead>\n",
       "  <tbody>\n",
       "    <tr>\n",
       "      <th>0</th>\n",
       "      <td>135397</td>\n",
       "      <td>32.985763</td>\n",
       "      <td>Jurassic World</td>\n",
       "      <td>Chris Pratt|Bryce Dallas Howard|Irrfan Khan|Vi...</td>\n",
       "      <td>Colin Trevorrow</td>\n",
       "      <td>The park is open.</td>\n",
       "      <td>monster|dna|tyrannosaurus rex|velociraptor|island</td>\n",
       "      <td>124</td>\n",
       "      <td>Action|Adventure|Science Fiction|Thriller</td>\n",
       "      <td>Universal Studios|Amblin Entertainment|Legenda...</td>\n",
       "      <td>2015-06-09</td>\n",
       "      <td>5562</td>\n",
       "      <td>6.5</td>\n",
       "      <td>2015</td>\n",
       "      <td>1.379999e+08</td>\n",
       "      <td>1.392446e+09</td>\n",
       "      <td>Long_Movie</td>\n",
       "      <td>1.254446e+09</td>\n",
       "    </tr>\n",
       "    <tr>\n",
       "      <th>1</th>\n",
       "      <td>76341</td>\n",
       "      <td>28.419936</td>\n",
       "      <td>Mad Max: Fury Road</td>\n",
       "      <td>Tom Hardy|Charlize Theron|Hugh Keays-Byrne|Nic...</td>\n",
       "      <td>George Miller</td>\n",
       "      <td>What a Lovely Day.</td>\n",
       "      <td>future|chase|post-apocalyptic|dystopia|australia</td>\n",
       "      <td>120</td>\n",
       "      <td>Action|Adventure|Science Fiction|Thriller</td>\n",
       "      <td>Village Roadshow Pictures|Kennedy Miller Produ...</td>\n",
       "      <td>2015-05-13</td>\n",
       "      <td>6185</td>\n",
       "      <td>7.1</td>\n",
       "      <td>2015</td>\n",
       "      <td>1.379999e+08</td>\n",
       "      <td>3.481613e+08</td>\n",
       "      <td>Long_Movie</td>\n",
       "      <td>2.101614e+08</td>\n",
       "    </tr>\n",
       "  </tbody>\n",
       "</table>\n",
       "</div>"
      ],
      "text/plain": [
       "       id  popularity      original_title  \\\n",
       "0  135397   32.985763      Jurassic World   \n",
       "1   76341   28.419936  Mad Max: Fury Road   \n",
       "\n",
       "                                                cast         director  \\\n",
       "0  Chris Pratt|Bryce Dallas Howard|Irrfan Khan|Vi...  Colin Trevorrow   \n",
       "1  Tom Hardy|Charlize Theron|Hugh Keays-Byrne|Nic...    George Miller   \n",
       "\n",
       "              tagline                                           keywords  \\\n",
       "0   The park is open.  monster|dna|tyrannosaurus rex|velociraptor|island   \n",
       "1  What a Lovely Day.   future|chase|post-apocalyptic|dystopia|australia   \n",
       "\n",
       "   runtime                                     genres  \\\n",
       "0      124  Action|Adventure|Science Fiction|Thriller   \n",
       "1      120  Action|Adventure|Science Fiction|Thriller   \n",
       "\n",
       "                                production_companies release_date  vote_count  \\\n",
       "0  Universal Studios|Amblin Entertainment|Legenda...   2015-06-09        5562   \n",
       "1  Village Roadshow Pictures|Kennedy Miller Produ...   2015-05-13        6185   \n",
       "\n",
       "   vote_average  release_year        budget       revenue        type  \\\n",
       "0           6.5          2015  1.379999e+08  1.392446e+09  Long_Movie   \n",
       "1           7.1          2015  1.379999e+08  3.481613e+08  Long_Movie   \n",
       "\n",
       "         profit  \n",
       "0  1.254446e+09  \n",
       "1  2.101614e+08  "
      ]
     },
     "execution_count": 56,
     "metadata": {},
     "output_type": "execute_result"
    }
   ],
   "source": [
    "df.head(2)"
   ]
  },
  {
   "cell_type": "code",
   "execution_count": 57,
   "id": "eb221e83",
   "metadata": {},
   "outputs": [
    {
     "data": {
      "image/png": "[encoded data removed]",
      "text/plain": [
       "<Figure size 432x288 with 1 Axes>"
      ]
     },
     "metadata": {
      "needs_background": "light"
     },
     "output_type": "display_data"
    }
   ],
   "source": [
    "plt.scatter(df['runtime'],df['revenue'])\n",
    "plt.xlabel('runtime')\n",
    "plt.ylabel('revenue')\n",
    "plt.title('The number of revenue per runtime');"
   ]
  },
  {
   "cell_type": "markdown",
   "id": "5a722b46",
   "metadata": {},
   "source": [
    "To have high revenue the movie should less than 200 minutes"
   ]
  },
  {
   "cell_type": "code",
   "execution_count": 58,
   "id": "bf347cd9",
   "metadata": {},
   "outputs": [
    {
     "data": {
      "image/png": "[encoded data removed]",
      "text/plain": [
       "<Figure size 432x288 with 1 Axes>"
      ]
     },
     "metadata": {
      "needs_background": "light"
     },
     "output_type": "display_data"
    }
   ],
   "source": [
    "plt.scatter(df['popularity'],df['revenue'])\n",
    "plt.xlabel('Popularity')\n",
    "plt.ylabel('Revenue')\n",
    "plt.title('The number of popularity per runtime');"
   ]
  },
  {
   "cell_type": "markdown",
   "id": "72ff1b65",
   "metadata": {},
   "source": [
    "most of highest movies have number of popularity less than 15  "
   ]
  },
  {
   "cell_type": "code",
   "execution_count": 59,
   "id": "0c42a6dd",
   "metadata": {},
   "outputs": [
    {
     "data": {
      "image/png": "[encoded data removed]",
      "text/plain": [
       "<Figure size 432x288 with 1 Axes>"
      ]
     },
     "metadata": {
      "needs_background": "light"
     },
     "output_type": "display_data"
    }
   ],
   "source": [
    "plt.scatter(df['profit'],df['revenue'])\n",
    "plt.xlabel('profit')\n",
    "plt.ylabel('Revenue')\n",
    "plt.title('The number of profit per runtime');"
   ]
  },
  {
   "cell_type": "code",
   "execution_count": 60,
   "id": "f12c119e",
   "metadata": {},
   "outputs": [
    {
     "data": {
      "image/png": "[encoded data removed]",
      "text/plain": [
       "<Figure size 432x288 with 1 Axes>"
      ]
     },
     "metadata": {
      "needs_background": "light"
     },
     "output_type": "display_data"
    }
   ],
   "source": [
    "plt.scatter(df['budget'],df['revenue'])\n",
    "plt.xlabel('budget')\n",
    "plt.ylabel('Revenue')\n",
    "plt.title('The number of budget per runtime');"
   ]
  },
  {
   "cell_type": "markdown",
   "id": "7ce1e0c9",
   "metadata": {},
   "source": [
    "most of highest revenues have budget less than 300,000,000 millions "
   ]
  },
  {
   "cell_type": "markdown",
   "id": "82798187",
   "metadata": {},
   "source": [
    "### Research Question 4 - how many movies per  genres?"
   ]
  },
  {
   "cell_type": "code",
   "execution_count": 61,
   "id": "4b42a367",
   "metadata": {},
   "outputs": [
    {
     "data": {
      "text/plain": [
       "{'Action': 0,\n",
       " 'Adventure': 0,\n",
       " 'Science Fiction': 0,\n",
       " 'Thriller': 0,\n",
       " 'Fantasy': 0,\n",
       " 'Crime': 0,\n",
       " 'Western': 0,\n",
       " 'Drama': 0,\n",
       " 'Family': 0,\n",
       " 'Animation': 0,\n",
       " 'Comedy': 0,\n",
       " 'Mystery': 0,\n",
       " 'Romance': 0,\n",
       " 'War': 0,\n",
       " 'History': 0,\n",
       " 'Music': 0,\n",
       " 'Horror': 0,\n",
       " 'Documentary': 0,\n",
       " 'TV Movie': 0,\n",
       " 'Foreign': 0}"
      ]
     },
     "execution_count": 61,
     "metadata": {},
     "output_type": "execute_result"
    }
   ],
   "source": [
    "# we creat dictionary with unique genres \n",
    "dic={}\n",
    "for ind in df.index:\n",
    "    for genre in df['genres'][ind].split('|'):\n",
    "        dic[genre]=0\n",
    "dic    "
   ]
  },
  {
   "cell_type": "code",
   "execution_count": 62,
   "id": "a62f009e",
   "metadata": {},
   "outputs": [],
   "source": [
    "# find how many movies in every genre \n",
    "for ind in df.index:\n",
    "    for genre in df['genres'][ind].split('|'):\n",
    "        dic[genre]+=1        "
   ]
  },
  {
   "cell_type": "code",
   "execution_count": 63,
   "id": "4e5325df",
   "metadata": {},
   "outputs": [],
   "source": [
    "# convert from dic to array\n",
    "gen=np.array(None)\n",
    "val=np.array(None)\n",
    "for key, value in dic.items():\n",
    "    gen=np.append(gen,key)\n",
    "    val=np.append(val,value)"
   ]
  },
  {
   "cell_type": "code",
   "execution_count": 64,
   "id": "2b554a91",
   "metadata": {},
   "outputs": [
    {
     "data": {
      "text/plain": [
       "array([2375, 1464, 1221, 2901, 907, 1353, 164, 4739, 1212, 664, 3765, 806,\n",
       "       1703, 268, 330, 394, 1628, 467, 159, 183], dtype=object)"
      ]
     },
     "execution_count": 64,
     "metadata": {},
     "output_type": "execute_result"
    }
   ],
   "source": [
    "# drop null values\n",
    "val = val[~pd.isnull(val)]\n",
    "val"
   ]
  },
  {
   "cell_type": "code",
   "execution_count": 65,
   "id": "4ca20123",
   "metadata": {},
   "outputs": [
    {
     "data": {
      "text/plain": [
       "array(['Action', 'Adventure', 'Science Fiction', 'Thriller', 'Fantasy',\n",
       "       'Crime', 'Western', 'Drama', 'Family', 'Animation', 'Comedy',\n",
       "       'Mystery', 'Romance', 'War', 'History', 'Music', 'Horror',\n",
       "       'Documentary', 'TV Movie', 'Foreign'], dtype=object)"
      ]
     },
     "execution_count": 65,
     "metadata": {},
     "output_type": "execute_result"
    }
   ],
   "source": [
    "gen = gen[~pd.isnull(gen)]\n",
    "gen"
   ]
  },
  {
   "cell_type": "code",
   "execution_count": 66,
   "id": "bf89c2c5",
   "metadata": {},
   "outputs": [
    {
     "data": {
      "text/plain": [
       "Text(0.5, 1.0, 'Number of movies per Genre')"
      ]
     },
     "execution_count": 66,
     "metadata": {},
     "output_type": "execute_result"
    },
    {
     "data": {
      "image/png": "[encoded data removed]",
      "text/plain": [
       "<Figure size 504x504 with 1 Axes>"
      ]
     },
     "metadata": {
      "needs_background": "light"
     },
     "output_type": "display_data"
    }
   ],
   "source": [
    "plt.figure(figsize=(7,7))\n",
    "plt.barh(gen,val);\n",
    "plt.xlabel('Number of Movies')\n",
    "plt.ylabel('Genres')\n",
    "plt.title('Number of movies per Genre')"
   ]
  },
  {
   "cell_type": "markdown",
   "id": "64dfb4a3",
   "metadata": {},
   "source": [
    "Drama and Comedy have the most of movies"
   ]
  },
  {
   "cell_type": "markdown",
   "id": "f2626f50",
   "metadata": {},
   "source": [
    "<a id='conclusions'></a>\n",
    "## Conclusions"
   ]
  },
  {
   "cell_type": "markdown",
   "id": "aee8f7be",
   "metadata": {},
   "source": [
    "### Question 1 - Which genres are most popular from year to year?"
   ]
  },
  {
   "cell_type": "code",
   "execution_count": 67,
   "id": "92db6385",
   "metadata": {},
   "outputs": [
    {
     "data": {
      "image/png": "[encoded data removed]",
      "text/plain": [
       "<Figure size 576x576 with 1 Axes>"
      ]
     },
     "metadata": {
      "needs_background": "light"
     },
     "output_type": "display_data"
    }
   ],
   "source": [
    "plt.figure(figsize=(8,8))\n",
    "plt.bar(df_gen['release_year'],df_gen['genres'])\n",
    "plt.xlabel('Year')\n",
    "plt.ylabel('Genres')\n",
    "plt.title('Most Popular genres per year');"
   ]
  },
  {
   "cell_type": "code",
   "execution_count": 68,
   "id": "1e016c75",
   "metadata": {},
   "outputs": [
    {
     "data": {
      "text/plain": [
       "Comedy                                       14\n",
       "Drama                                         9\n",
       "Adventure|Action|Science Fiction              3\n",
       "Adventure|Action|Thriller                     3\n",
       "Adventure|Fantasy|Action                      2\n",
       "Comedy|Drama|Romance                          2\n",
       "Horror|Thriller                               2\n",
       "Drama|Crime                                   2\n",
       "Horror|Action|Thriller|Science Fiction        1\n",
       "Adventure|Animation|Comedy|Family             1\n",
       "Action|Thriller|Adventure                     1\n",
       "Animation|Family|Comedy                       1\n",
       "Science Fiction|Mystery|Adventure             1\n",
       "Animation|Comedy|Family|Adventure             1\n",
       "Science Fiction|Drama                         1\n",
       "Animation|Family                              1\n",
       "Action|Adventure|Science Fiction|Thriller     1\n",
       "Adventure|Action                              1\n",
       "Science Fiction|Drama|Thriller                1\n",
       "Action|Thriller|Science Fiction               1\n",
       "Adventure|Comedy|Science Fiction|Family       1\n",
       "Science Fiction|Action|Adventure|Thriller     1\n",
       "Action|Thriller                               1\n",
       "Romance|Family|Animation|Fantasy|Music        1\n",
       "Crime|Thriller                                1\n",
       "Comedy|Drama                                  1\n",
       "Drama|Horror|Thriller                         1\n",
       "Name: genres, dtype: int64"
      ]
     },
     "execution_count": 68,
     "metadata": {},
     "output_type": "execute_result"
    }
   ],
   "source": [
    "df_gen['genres'].value_counts()"
   ]
  },
  {
   "cell_type": "markdown",
   "id": "92977d1f",
   "metadata": {},
   "source": [
    "it appears that Comedy genre is populare to many years and then Drama"
   ]
  },
  {
   "cell_type": "markdown",
   "id": "d537bf7b",
   "metadata": {},
   "source": [
    "### Question 2 - What are the difference between long Movie and Short Movie?"
   ]
  },
  {
   "cell_type": "code",
   "execution_count": 69,
   "id": "68f03c75",
   "metadata": {},
   "outputs": [
    {
     "data": {
      "image/png": "[encoded data removed]",
      "text/plain": [
       "<Figure size 432x432 with 1 Axes>"
      ]
     },
     "metadata": {
      "needs_background": "light"
     },
     "output_type": "display_data"
    }
   ],
   "source": [
    "plt.figure(figsize=(6,6))\n",
    "plt.scatter(df_long['release_year'],df_long['profit'],label='long_movie')\n",
    "plt.scatter(df_short['release_year'],df_short['profit'],label='short_movie')\n",
    "plt.xlabel('Years')\n",
    "plt.ylabel('Profit')\n",
    "plt.title('The Profit of Long Movies and Short Movies Per Year')\n",
    "plt.legend();\n"
   ]
  },
  {
   "cell_type": "markdown",
   "id": "9c5d3736",
   "metadata": {},
   "source": [
    "The long Movies have increasing profit from 1960 to 2015<br>\n",
    "but in short Movies it appears that the profit hasn't change from 1960 to 2015"
   ]
  },
  {
   "cell_type": "code",
   "execution_count": 70,
   "id": "6e2f4525",
   "metadata": {},
   "outputs": [
    {
     "data": {
      "image/png": "[encoded data removed]",
      "text/plain": [
       "<Figure size 432x288 with 1 Axes>"
      ]
     },
     "metadata": {},
     "output_type": "display_data"
    }
   ],
   "source": [
    "labels=['long Movies','Short Movies']\n",
    "colors=['blue','green']\n",
    "plt.pie([proportion_long,proportion_short],colors=colors,labels=labels,explode=(0.1,0.1),autopct='%1.2f%%',shadow=True);\n",
    "plt.title('proportion of Long Movie and short Movie');"
   ]
  },
  {
   "cell_type": "markdown",
   "id": "87866d24",
   "metadata": {},
   "source": [
    "the Long movies dominate the most movies in dataset by 98.3%"
   ]
  },
  {
   "cell_type": "markdown",
   "id": "4894a50d",
   "metadata": {},
   "source": [
    "### Question 3 - What kinds of properties are associated with movies that have high revenues?"
   ]
  },
  {
   "cell_type": "code",
   "execution_count": 71,
   "id": "03a03285",
   "metadata": {},
   "outputs": [
    {
     "data": {
      "image/png": "[encoded data removed]",
      "text/plain": [
       "<Figure size 432x288 with 2 Axes>"
      ]
     },
     "metadata": {
      "needs_background": "light"
     },
     "output_type": "display_data"
    }
   ],
   "source": [
    "plt.subplot(1, 2, 1)\n",
    "plt.scatter(df['runtime'],df['revenue'])\n",
    "plt.xlabel('runtime')\n",
    "plt.ylabel('revenue')\n",
    "plt.title('The number of revenue per runtime');\n",
    "\n",
    "plt.subplot(1, 2, 2)\n",
    "plt.scatter(df['popularity'],df['revenue'])\n",
    "plt.xlabel('Popularity')\n",
    "plt.ylabel('Revenue')\n",
    "plt.title('The number of popularity per runtime')\n",
    "\n",
    "\n",
    "plt.subplots_adjust(left=0.01,\n",
    "                    bottom=0.1, \n",
    "                    right=1.5, \n",
    "                    top=0.9, \n",
    "                    wspace=0.4, \n",
    "                    hspace=0.4)"
   ]
  },
  {
   "cell_type": "markdown",
   "id": "dc688fa0",
   "metadata": {},
   "source": [
    "<ul>\n",
    "    <li>\n",
    "To have high revenue the movie should less than 200 minutes<br>\n",
    "<li>\n",
    "most of highest movies have number of popularity less than 15  \n",
    "    <ul>"
   ]
  },
  {
   "cell_type": "code",
   "execution_count": 72,
   "id": "12f0fb64",
   "metadata": {},
   "outputs": [
    {
     "data": {
      "image/png": "[encoded data removed]",
      "text/plain": [
       "<Figure size 432x288 with 2 Axes>"
      ]
     },
     "metadata": {
      "needs_background": "light"
     },
     "output_type": "display_data"
    }
   ],
   "source": [
    "plt.subplot(1, 2, 1)\n",
    "plt.scatter(df['profit'],df['revenue'])\n",
    "plt.xlabel('profit')\n",
    "plt.ylabel('Revenue')\n",
    "plt.title('The number of profit per runtime')\n",
    "\n",
    "plt.subplot(1, 2, 2)\n",
    "plt.scatter(df['budget'],df['revenue'])\n",
    "plt.xlabel('budget')\n",
    "plt.ylabel('Revenue')\n",
    "plt.title('The number of budget per runtime')\n",
    "\n",
    "plt.subplots_adjust(left=0.01,\n",
    "                    bottom=0.1, \n",
    "                    right=1.5, \n",
    "                    top=0.9, \n",
    "                    wspace=0.4, \n",
    "                    hspace=0.4)\n"
   ]
  },
  {
   "cell_type": "markdown",
   "id": "29257261",
   "metadata": {},
   "source": [
    "<ul>\n",
    "    <li> There is correlation between profits and revenues\n",
    "    <li>\n",
    "Most of highest revenues have budget less than 300,000,000 millions "
   ]
  },
  {
   "cell_type": "markdown",
   "id": "be3ec178",
   "metadata": {},
   "source": [
    "### Question 4 - how many movies per  genres?"
   ]
  },
  {
   "cell_type": "code",
   "execution_count": 73,
   "id": "e61fb09b",
   "metadata": {},
   "outputs": [
    {
     "data": {
      "image/png": "[encoded data removed]",
      "text/plain": [
       "<Figure size 504x504 with 1 Axes>"
      ]
     },
     "metadata": {
      "needs_background": "light"
     },
     "output_type": "display_data"
    }
   ],
   "source": [
    "plt.figure(figsize=(7,7))\n",
    "plt.barh(gen,val);\n",
    "plt.xlabel('Number of Movies')\n",
    "plt.ylabel('Genres')\n",
    "plt.title('Number of movies per Genre');"
   ]
  },
  {
   "cell_type": "markdown",
   "id": "62054836",
   "metadata": {},
   "source": [
    "Drama and Comedy have the most of movies"
   ]
  },
  {
   "cell_type": "markdown",
   "id": "23d8359b",
   "metadata": {},
   "source": [
    "## limitation"
   ]
  },
  {
   "cell_type": "markdown",
   "id": "c38d7b74",
   "metadata": {},
   "source": [
    "<ul>\n",
    "<li>zeros values in budgets and revenues affected our result by creating a lot of outliers in the dataset"
   ]
  },
  {
   "cell_type": "code",
   "execution_count": 74,
   "id": "fc1356f7",
   "metadata": {},
   "outputs": [
    {
     "data": {
      "text/plain": [
       "4294967295"
      ]
     },
     "execution_count": 74,
     "metadata": {},
     "output_type": "execute_result"
    }
   ],
   "source": [
    "from subprocess import call\n",
    "call(['python', '-m', 'nbconvert', 'Investigate_a_Dataset.ipynb'])"
   ]
  }
 ],
 "metadata": {
  "kernelspec": {
   "display_name": "Python 3 (ipykernel)",
   "language": "python",
   "name": "python3"
  },
  "language_info": {
   "codemirror_mode": {
    "name": "ipython",
    "version": 3
   },
   "file_extension": ".py",
   "mimetype": "text/x-python",
   "name": "python",
   "nbconvert_exporter": "python",
   "pygments_lexer": "ipython3",
   "version": "3.9.7"
  }
 },
 "nbformat": 4,
 "nbformat_minor": 5
}
